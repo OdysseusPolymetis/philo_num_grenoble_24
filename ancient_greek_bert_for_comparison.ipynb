{
  "nbformat": 4,
  "nbformat_minor": 0,
  "metadata": {
    "colab": {
      "provenance": [],
      "authorship_tag": "ABX9TyN8x8ZeqckN64zBCUKf1sIu",
      "include_colab_link": true
    },
    "kernelspec": {
      "name": "python3",
      "display_name": "Python 3"
    },
    "language_info": {
      "name": "python"
    }
  },
  "cells": [
    {
      "cell_type": "markdown",
      "metadata": {
        "id": "view-in-github",
        "colab_type": "text"
      },
      "source": [
        "<a href=\"https://colab.research.google.com/github/OdysseusPolymetis/philo_num_grenoble_24/blob/main/ancient_greek_bert_for_comparison.ipynb\" target=\"_parent\"><img src=\"https://colab.research.google.com/assets/colab-badge.svg\" alt=\"Open In Colab\"/></a>"
      ]
    },
    {
      "cell_type": "code",
      "execution_count": null,
      "metadata": {
        "id": "H0eIGHLBZVrq"
      },
      "outputs": [],
      "source": [
        "!pip install flair"
      ]
    },
    {
      "cell_type": "code",
      "source": [
        "!git clone https://github.com/PerseusDL/treebank_data.git"
      ],
      "metadata": {
        "id": "RtzRGjN8pOZ6"
      },
      "execution_count": null,
      "outputs": []
    },
    {
      "cell_type": "code",
      "source": [
        "greek_dir = '/content/treebank_data/v2.1/Greek/texts'\n",
        "latin_dir = '/content/treebank_data/v2.1/Latin/texts'"
      ],
      "metadata": {
        "id": "jj-Hn-kVpSsK"
      },
      "execution_count": null,
      "outputs": []
    },
    {
      "cell_type": "code",
      "source": [
        "!git clone https://github.com/pranaydeeps/Ancient-Greek-BERT.git\n",
        "%cd Ancient-Greek-BERT\n",
        "!git lfs pull --include \"final-model.pt\""
      ],
      "metadata": {
        "id": "5TZzbDG8aWW9"
      },
      "execution_count": null,
      "outputs": []
    },
    {
      "cell_type": "code",
      "source": [
        "!mkdir ../LM/\n",
        "!git clone https://huggingface.co/pranaydeeps/Ancient-Greek-BERT ../LM/SuperPeitho-v1"
      ],
      "metadata": {
        "id": "H5ogRXLOavK1"
      },
      "execution_count": null,
      "outputs": []
    },
    {
      "cell_type": "code",
      "source": [
        "from flair.models import SequenceTagger\n",
        "tagger = SequenceTagger.load(\"SuperPeitho-FLAIR-v2/final-model.pt\")"
      ],
      "metadata": {
        "colab": {
          "base_uri": "https://localhost:8080/"
        },
        "id": "6PoJhhIUZajP",
        "outputId": "14239b15-d150-46e7-a92f-00c65eab1edf"
      },
      "execution_count": null,
      "outputs": [
        {
          "output_type": "stream",
          "name": "stdout",
          "text": [
            "2024-01-17 20:29:22,218 SequenceTagger predicts: Dictionary with 1030 tags: <unk>, O, a-p---na-, v2spma---, u--------, d--------, v-papamn-, r--------, l-s---ma-, n-s---ma-, v3siie---, l-s---nn-, l-s---fg-, n-s---fg-, l-s---mg-, n-s---mg-, v3ppia---, i--------, n-s---mn-, v3saia---, p-p---fd-, v-sppamn-, a-s---mn-, n-p---mg-, c--------, v3saoa---, p-s---mn-, l-s---mn-, v3siia---, v-sapamg-, b--------, p-s---cg-, p-s---fd-, l-p---mg-, a-p---mg-, a-s---ma-, v-sppamg-, v3spia---, a-p---ng-, n-p---ng-, _, v3piie---, l-p---md-, a-p---md-, v-pppamn-, p-p---ma-, l-s---fa-, n-s---fa-, n-p---na-, v3paia---\n"
          ]
        }
      ]
    },
    {
      "cell_type": "code",
      "source": [
        "import os\n",
        "import xml.etree.ElementTree as ET\n",
        "import csv"
      ],
      "metadata": {
        "id": "pG914Mlopizs"
      },
      "execution_count": null,
      "outputs": []
    },
    {
      "cell_type": "code",
      "source": [
        "def parse_treebank_file(file_path):\n",
        "\n",
        "    tree = ET.parse(file_path)\n",
        "    root = tree.getroot()\n",
        "\n",
        "    indexed_gold_sentences = []\n",
        "    file_id1 = os.path.basename(file_path)\n",
        "    print(file_id1)\n",
        "    print(len(root.findall('.//sentence')))\n",
        "\n",
        "    for i, sentence in enumerate(root.findall('.//sentence')):\n",
        "        words = []\n",
        "        for word in sentence.findall('.//word'):\n",
        "            words.append({\n",
        "                'form': word.get('form'),\n",
        "                'lemma': word.get('lemma'),\n",
        "                'postag': word.get('postag'),\n",
        "                'relation': word.get('relation'),\n",
        "                'head': word.get('head')\n",
        "            })\n",
        "        indexed_gold_sentences.append((file_id1,i, words))\n",
        "    return indexed_gold_sentences"
      ],
      "metadata": {
        "id": "MW7JfIfBpnWd"
      },
      "execution_count": null,
      "outputs": []
    },
    {
      "cell_type": "code",
      "source": [
        "def process_gold_directory(directory, filter_text):\n",
        "    all_sentences = []\n",
        "\n",
        "    for root, dirs, files in os.walk(directory):\n",
        "        for file in files:\n",
        "            if filter_text in file:\n",
        "                file_path = os.path.join(root, file)\n",
        "                sentences = parse_treebank_file(file_path)\n",
        "\n",
        "                for sentence in sentences:\n",
        "                    all_sentences.append(sentence)\n",
        "\n",
        "                print(f\"Processed {file_path}\")\n",
        "\n",
        "    return all_sentences"
      ],
      "metadata": {
        "id": "AKBEluJ_pqGn"
      },
      "execution_count": null,
      "outputs": []
    },
    {
      "cell_type": "code",
      "source": [
        "treebank_sentences=process_gold_directory(greek_dir, 'tlg0012')"
      ],
      "metadata": {
        "colab": {
          "base_uri": "https://localhost:8080/"
        },
        "id": "2otEIU9opyff",
        "outputId": "f63edb75-0645-4e5a-dd28-ac2808145fc8"
      },
      "execution_count": null,
      "outputs": [
        {
          "output_type": "stream",
          "name": "stdout",
          "text": [
            "tlg0012.tlg001.perseus-grc1.tb.xml\n",
            "8415\n",
            "Processed /content/treebank_data/v2.1/Greek/texts/tlg0012.tlg001.perseus-grc1.tb.xml\n",
            "tlg0012.tlg002.perseus-grc1.tb.xml\n",
            "6723\n",
            "Processed /content/treebank_data/v2.1/Greek/texts/tlg0012.tlg002.perseus-grc1.tb.xml\n"
          ]
        }
      ]
    },
    {
      "cell_type": "code",
      "source": [
        "def parse_treebank_file(file_path):\n",
        "    tree = ET.parse(file_path)\n",
        "    root = tree.getroot()\n",
        "\n",
        "    file_id2 = os.path.basename(file_path)\n",
        "\n",
        "    sentences = []\n",
        "    for i, sentence in enumerate(root.findall('.//sentence')):\n",
        "        words = [word.get('form') for word in sentence.findall('.//word')]\n",
        "        sentence_text = ' '.join(words)\n",
        "        sentences.append((file_id2, i, sentence_text))\n",
        "    return sentences"
      ],
      "metadata": {
        "id": "ioSFwP2Pp6w-"
      },
      "execution_count": null,
      "outputs": []
    },
    {
      "cell_type": "code",
      "source": [
        "from flair.data import Sentence\n",
        "\n",
        "sentence = Sentence(\"ἄνδρα μοι ἔννεπε, μοῦσα, πολύτροπον\")\n",
        "tagger.predict(sentence)\n",
        "print(sentence)"
      ],
      "metadata": {
        "colab": {
          "base_uri": "https://localhost:8080/"
        },
        "id": "X2O-jCMQZwHD",
        "outputId": "83659b60-874b-48ed-c80c-3c4f7261ae37"
      },
      "execution_count": null,
      "outputs": [
        {
          "output_type": "stream",
          "name": "stdout",
          "text": [
            "Sentence[7]: \"ἄνδρα μοι ἔννεπε, μοῦσα, πολύτροπον\" → [\"ἄνδρα\"/n-s---ma-, \"μοι\"/p1s---cd-, \"ἔννεπε\"/v2spma---, \",\"/u--------, \"μοῦσα\"/n-s---fv-, \",\"/u--------, \"πολύτροπον\"/a-s---ma-]\n"
          ]
        }
      ]
    },
    {
      "cell_type": "code",
      "source": [
        "def analyze_with_flair(sentences, tagger):\n",
        "    analyzed_sentences = []\n",
        "    for file_id2, index, sentence_text in sentences:\n",
        "        sentence = Sentence(sentence_text)\n",
        "        tagger.predict(sentence)\n",
        "        sentence_dict = sentence.to_dict(tag_type='pos')\n",
        "        #print(\"Sortie de sentence.to_dict:\", sentence_dict)\n",
        "        analyzed_sentences.append((file_id2, index, sentence_dict))\n",
        "    return analyzed_sentences"
      ],
      "metadata": {
        "id": "ewo6iV9TbOF3"
      },
      "execution_count": null,
      "outputs": []
    },
    {
      "cell_type": "code",
      "source": [
        "def process_directory(directory, filter_text, language, nb_of_sentences, tagger):\n",
        "    all_sentences = []\n",
        "    for root, dirs, files in os.walk(directory):\n",
        "        for file in files:\n",
        "            if filter_text in file:\n",
        "                file_path = os.path.join(root, file)\n",
        "                sentences = parse_treebank_file(file_path)\n",
        "                all_sentences.extend(sentences)\n",
        "                print(f\"Processed {file_path}\")\n",
        "    analyzed_sentences = analyze_with_flair(all_sentences[:nb_of_sentences], tagger)\n",
        "    return analyzed_sentences"
      ],
      "metadata": {
        "id": "VVV5BBqYqpLG"
      },
      "execution_count": null,
      "outputs": []
    },
    {
      "cell_type": "code",
      "source": [
        "nb_of_sentences = 100\n",
        "bert_sentences = process_directory(greek_dir, 'tlg0012', 'grc', nb_of_sentences, tagger)"
      ],
      "metadata": {
        "colab": {
          "base_uri": "https://localhost:8080/"
        },
        "id": "tbawpQDfqxDB",
        "outputId": "454f2954-444b-41c5-f103-f3a24cf10b8d"
      },
      "execution_count": null,
      "outputs": [
        {
          "output_type": "stream",
          "name": "stdout",
          "text": [
            "Processed /content/treebank_data/v2.1/Greek/texts/tlg0012.tlg001.perseus-grc1.tb.xml\n",
            "Processed /content/treebank_data/v2.1/Greek/texts/tlg0012.tlg002.perseus-grc1.tb.xml\n"
          ]
        }
      ]
    },
    {
      "cell_type": "code",
      "source": [
        "def compare_results(treebank_sentences, bert_sentences):\n",
        "    for (file_id_tb, index_tb, sentence_tb), (file_id_bert, index_bert, sentence_bert) in zip(treebank_sentences, bert_sentences):\n",
        "        print(file_id_tb)\n",
        "        if file_id_tb == file_id_bert and index_tb == index_bert:\n",
        "            if file_id_tb==file_id_bert and index_tb==index_bert :\n",
        "              print(\"treebank : \"+str(sentence_tb))\n",
        "              print(\"bert data : \"+str(sentence_bert))\n",
        "            pass"
      ],
      "metadata": {
        "id": "v7G1ZwKNq3UY"
      },
      "execution_count": null,
      "outputs": []
    },
    {
      "cell_type": "code",
      "source": [
        "compare_results(treebank_sentences, bert_sentences)"
      ],
      "metadata": {
        "id": "Fg3CFG4MrAwu"
      },
      "execution_count": null,
      "outputs": []
    },
    {
      "cell_type": "markdown",
      "source": [
        "n\tnoun\n",
        "<br>v\tverb\n",
        "<br>t\tparticiple\n",
        "<br>a\tadjective\n",
        "<br>d\tadverb\n",
        "<br>l\tarticle\n",
        "<br>g\tparticle\n",
        "<br>c\tconjunction\n",
        "<br>r\tpreposition\n",
        "<br>p\tpronoun\n",
        "<br>m\tnumeral\n",
        "<br>i\tinterjection\n",
        "<br>e\texclamation\n",
        "<br>u\tpunctuation"
      ],
      "metadata": {
        "id": "_t5mtIXG3HQ-"
      }
    },
    {
      "cell_type": "code",
      "source": [
        "def compare_annotations(tb_sentence, bert_data):\n",
        "    error_details = {\n",
        "        'lemma_errors': [],\n",
        "        'pos_errors': [],\n",
        "        'word_pos_comparisons': []\n",
        "    }\n",
        "\n",
        "    bert_tokens = {token['text']: token for token in bert_data['tokens']}\n",
        "\n",
        "    for tb_word in tb_sentence[2]:\n",
        "        tb_text = tb_word['form']\n",
        "        tb_pos = tb_word['postag']\n",
        "\n",
        "        bert_token = bert_tokens.get(tb_text)\n",
        "\n",
        "        if bert_token:\n",
        "            bert_text = bert_token['text']\n",
        "            bert_pos = bert_token['labels'][0]['value'] if bert_token['labels'] else None\n",
        "            error_details['word_pos_comparisons'].append({\n",
        "                'treebank_word': tb_text,\n",
        "                'treebank_pos': tb_pos,\n",
        "                'bert_word': bert_text,\n",
        "                'bert_pos': bert_pos\n",
        "                })\n",
        "\n",
        "            if tb_pos != bert_pos:\n",
        "              error_details['pos_errors'].append({\n",
        "                'word': tb_text,\n",
        "                'tb_pos': tb_pos,\n",
        "                'bert_pos': bert_pos\n",
        "            })\n",
        "\n",
        "\n",
        "    return error_details"
      ],
      "metadata": {
        "id": "BBEEDH3zrNw2"
      },
      "execution_count": null,
      "outputs": []
    },
    {
      "cell_type": "code",
      "source": [
        "all_errors = {\n",
        "    'lemma_errors': [],\n",
        "    'pos_errors': []\n",
        "}\n",
        "\n",
        "for tb_sentence, bert_tuple in zip(treebank_sentences, bert_sentences):\n",
        "    file_id_bert, index_bert, bert_data = bert_tuple\n",
        "    if file_id_bert == tb_sentence[0] and index_bert == tb_sentence[1]:\n",
        "        try:\n",
        "            errors = compare_annotations(tb_sentence, bert_data)\n",
        "            all_errors['lemma_errors'].extend(errors['lemma_errors'])\n",
        "            all_errors['pos_errors'].extend(errors['pos_errors'])\n",
        "\n",
        "            for comparison in errors['word_pos_comparisons']:\n",
        "                if (comparison['treebank_word'] == comparison['bert_word'] and\n",
        "                    comparison['treebank_pos'][0] != comparison['bert_pos'][0] and\n",
        "                    comparison['treebank_pos'][0] not in ['g', 'd', 'b'] and\n",
        "                    comparison['bert_pos'][0] not in ['g', 'd', 'b']):\n",
        "                    full_sentence = \" \".join([word['form'] for word in tb_sentence[2]])\n",
        "                    print(f\"Phrase complète: {full_sentence}\")\n",
        "                    print(f\"Treebank Word: {comparison['treebank_word']} (POS: {comparison['treebank_pos']}) - \"\n",
        "                          f\"BERT Word: {comparison['bert_word']} (POS: {comparison['bert_pos']})\")\n",
        "\n",
        "        except ValueError as e:\n",
        "            print(f\"Erreur dans les données : {e}\")\n",
        "\n",
        "\n",
        "print(\"Lemma Errors:\", all_errors['lemma_errors'])\n",
        "print(\"POS Errors:\", all_errors['pos_errors'])"
      ],
      "metadata": {
        "id": "OVoL8kIXs0iO"
      },
      "execution_count": null,
      "outputs": []
    },
    {
      "cell_type": "code",
      "source": [
        "from collections import Counter\n",
        "\n",
        "filtered_pos_errors = [error for error in all_errors['pos_errors']\n",
        "                       if error['tb_pos'] is not None and\n",
        "                          error['tb_pos'][0] not in ['g', 'd', 'b']]\n",
        "\n",
        "pos_error_counts = Counter([error['tb_pos'][0] for error in filtered_pos_errors])\n",
        "\n",
        "print(pos_error_counts)\n"
      ],
      "metadata": {
        "colab": {
          "base_uri": "https://localhost:8080/"
        },
        "id": "wp4N_pPSs_HE",
        "outputId": "2d507c80-4215-42bc-fa85-59be6e18f553"
      },
      "execution_count": null,
      "outputs": [
        {
          "output_type": "stream",
          "name": "stdout",
          "text": [
            "Counter({'v': 69, 'a': 69, 'p': 60, 'n': 45, 'c': 34, 'l': 31, '-': 3})\n"
          ]
        }
      ]
    },
    {
      "cell_type": "code",
      "source": [
        "import matplotlib.pyplot as plt\n",
        "\n",
        "pos_groups = list(pos_error_counts.keys())\n",
        "errors = list(pos_error_counts.values())\n",
        "\n",
        "plt.figure(figsize=(10, 6))\n",
        "plt.bar(pos_groups, errors, color='skyblue')\n",
        "plt.xlabel('Groupes de POS Tags')\n",
        "plt.ylabel('Nombre d\\'erreurs')\n",
        "plt.title('Erreurs de POS Tagging par CLTK par Groupe de Tags')\n",
        "plt.xticks(rotation=45)\n",
        "plt.show()"
      ],
      "metadata": {
        "colab": {
          "base_uri": "https://localhost:8080/",
          "height": 566
        },
        "id": "XIXaQw5JwpHi",
        "outputId": "0e3a4231-1f60-44e9-adce-4a791e68cd50"
      },
      "execution_count": null,
      "outputs": [
        {
          "output_type": "display_data",
          "data": {
            "text/plain": [
              "<Figure size 1000x600 with 1 Axes>"
            ],
            "image/png": "[encoded data removed]"
          },
          "metadata": {}
        }
      ]
    },
    {
      "cell_type": "code",
      "source": [
        "def compare_global_annotations(tb_sentence, bert_data):\n",
        "    annotations = []\n",
        "\n",
        "    bert_tokens = {token['text']: token for token in bert_data['tokens']}\n",
        "\n",
        "    for tb_word in tb_sentence[2]:\n",
        "        tb_text = tb_word['form']\n",
        "        tb_pos_short = tb_word['postag'][0] if tb_word['postag'] else None  # Première lettre du POS du Treebank\n",
        "\n",
        "        bert_token = bert_tokens.get(tb_text)\n",
        "        if bert_token:\n",
        "            bert_text = bert_token['text']\n",
        "            bert_pos_short = bert_token['labels'][0]['value'][0] if bert_token['labels'] else None\n",
        "\n",
        "            pos_match = tb_pos_short == bert_pos_short\n",
        "\n",
        "            annotations.append({\n",
        "                'word': tb_text,\n",
        "                'tb_pos': tb_pos_short,\n",
        "                'bert_pos': bert_pos_short,\n",
        "                'pos_match': pos_match\n",
        "            })\n",
        "\n",
        "    return annotations\n"
      ],
      "metadata": {
        "id": "jWWKJz_g5c7w"
      },
      "execution_count": null,
      "outputs": []
    },
    {
      "cell_type": "code",
      "source": [
        "output_file = '/content/bert_results.csv'\n",
        "\n",
        "with open(output_file, mode='w', newline='', encoding='utf-8') as file:\n",
        "    writer = csv.writer(file)\n",
        "    writer.writerow(['Word','TB POS', 'BERT POS', 'POS Match'])\n",
        "\n",
        "    for tb_sentence, bert_tuple in zip(treebank_sentences, bert_sentences):\n",
        "        file_id_bert, index_bert, bert_data = bert_tuple\n",
        "        if file_id_bert == tb_sentence[0] and index_bert == tb_sentence[1]:\n",
        "            try:\n",
        "                annotations = compare_global_annotations(tb_sentence, bert_data)\n",
        "                for annotation in annotations:\n",
        "                    writer.writerow([annotation['word'], annotation['tb_pos'], annotation['bert_pos'],\n",
        "                                     annotation['pos_match']])\n",
        "            except ValueError as e:\n",
        "                print(f\"Erreur dans les données : {e}\")"
      ],
      "metadata": {
        "id": "STr6ypQzHkiU"
      },
      "execution_count": null,
      "outputs": []
    },
    {
      "cell_type": "code",
      "source": [],
      "metadata": {
        "id": "HdU5q5kvHosg"
      },
      "execution_count": null,
      "outputs": []
    }
  ]
}