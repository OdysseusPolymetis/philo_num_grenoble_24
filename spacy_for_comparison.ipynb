{
  "nbformat": 4,
  "nbformat_minor": 0,
  "metadata": {
    "colab": {
      "provenance": [],
      "authorship_tag": "ABX9TyM3jooZYdgLWjEojZddeFp/",
      "include_colab_link": true
    },
    "kernelspec": {
      "name": "python3",
      "display_name": "Python 3"
    },
    "language_info": {
      "name": "python"
    }
  },
  "cells": [
    {
      "cell_type": "markdown",
      "metadata": {
        "id": "view-in-github",
        "colab_type": "text"
      },
      "source": [
        "<a href=\"https://colab.research.google.com/github/OdysseusPolymetis/philo_num_grenoble_24/blob/main/spacy_for_comparison.ipynb\" target=\"_parent\"><img src=\"https://colab.research.google.com/assets/colab-badge.svg\" alt=\"Open In Colab\"/></a>"
      ]
    },
    {
      "cell_type": "code",
      "execution_count": null,
      "metadata": {
        "id": "2hedceAh-pop"
      },
      "outputs": [],
      "source": [
        "!pip install spacy\n",
        "!pip install spacy-transformers"
      ]
    },
    {
      "cell_type": "code",
      "source": [
        "!pip install grecy"
      ],
      "metadata": {
        "id": "qAJBs5V5wz4z"
      },
      "execution_count": null,
      "outputs": []
    },
    {
      "cell_type": "code",
      "source": [
        "#!pip install https://huggingface.co/latincy/la_core_web_lg/resolve/main/la_core_web_lg-any-py3-none-any.whl\n",
        "!python -m grecy install grc_proiel_trf"
      ],
      "metadata": {
        "id": "awAIU4gnnIV9"
      },
      "execution_count": null,
      "outputs": []
    },
    {
      "cell_type": "code",
      "source": [
        "import spacy\n",
        "nlp = spacy.load('grc_proiel_trf')"
      ],
      "metadata": {
        "id": "cFNpaYobnN05"
      },
      "execution_count": null,
      "outputs": []
    },
    {
      "cell_type": "code",
      "source": [
        "!git clone https://github.com/PerseusDL/treebank_data.git"
      ],
      "metadata": {
        "id": "vhJmM1QpqVqI"
      },
      "execution_count": null,
      "outputs": []
    },
    {
      "cell_type": "code",
      "source": [
        "greek_dir = '/content/treebank_data/v2.1/Greek/texts'\n",
        "latin_dir = '/content/treebank_data/v2.1/Latin/texts'"
      ],
      "metadata": {
        "id": "PJ1Oy29rqaoP"
      },
      "execution_count": null,
      "outputs": []
    },
    {
      "cell_type": "code",
      "source": [
        "import os\n",
        "import xml.etree.ElementTree as ET"
      ],
      "metadata": {
        "id": "9hc7xd6yqdS8"
      },
      "execution_count": null,
      "outputs": []
    },
    {
      "cell_type": "code",
      "source": [
        "def parse_treebank_file(file_path):\n",
        "\n",
        "    tree = ET.parse(file_path)\n",
        "    root = tree.getroot()\n",
        "\n",
        "    indexed_gold_sentences = []\n",
        "    file_id1 = os.path.basename(file_path)\n",
        "    print(file_id1)\n",
        "    print(len(root.findall('.//sentence')))\n",
        "\n",
        "    for i, sentence in enumerate(root.findall('.//sentence')):\n",
        "        words = []\n",
        "        for word in sentence.findall('.//word'):\n",
        "            words.append({\n",
        "                'form': word.get('form'),\n",
        "                'lemma': word.get('lemma'),\n",
        "                'postag': word.get('postag'),\n",
        "                'relation': word.get('relation'),\n",
        "                'head': word.get('head')\n",
        "            })\n",
        "        indexed_gold_sentences.append((file_id1,i, words))\n",
        "    return indexed_gold_sentences"
      ],
      "metadata": {
        "id": "4370mqqwqhlD"
      },
      "execution_count": null,
      "outputs": []
    },
    {
      "cell_type": "code",
      "source": [
        "def process_gold_directory(directory, filter_text):\n",
        "    all_sentences = []\n",
        "\n",
        "    for root, dirs, files in os.walk(directory):\n",
        "        for file in files:\n",
        "            if filter_text in file:\n",
        "                file_path = os.path.join(root, file)\n",
        "                sentences = parse_treebank_file(file_path)\n",
        "\n",
        "                for sentence in sentences:\n",
        "                    all_sentences.append(sentence)\n",
        "\n",
        "                print(f\"Processed {file_path}\")\n",
        "\n",
        "    return all_sentences"
      ],
      "metadata": {
        "id": "KX2VRANLqkj2"
      },
      "execution_count": null,
      "outputs": []
    },
    {
      "cell_type": "code",
      "source": [
        "treebank_sentences=process_gold_directory(greek_dir, 'tlg0012')"
      ],
      "metadata": {
        "id": "BArn_EIk053e",
        "colab": {
          "base_uri": "https://localhost:8080/"
        },
        "outputId": "3a3929cd-8530-456e-e0c6-9d1294c676f7"
      },
      "execution_count": null,
      "outputs": [
        {
          "output_type": "stream",
          "name": "stdout",
          "text": [
            "tlg0012.tlg001.perseus-grc1.tb.xml\n",
            "8415\n",
            "Processed /content/treebank_data/v2.1/Greek/texts/tlg0012.tlg001.perseus-grc1.tb.xml\n",
            "tlg0012.tlg002.perseus-grc1.tb.xml\n",
            "6723\n",
            "Processed /content/treebank_data/v2.1/Greek/texts/tlg0012.tlg002.perseus-grc1.tb.xml\n"
          ]
        }
      ]
    },
    {
      "cell_type": "code",
      "source": [
        "def parse_treebank_file(file_path):\n",
        "    tree = ET.parse(file_path)\n",
        "    root = tree.getroot()\n",
        "\n",
        "    file_id2 = os.path.basename(file_path)\n",
        "\n",
        "    sentences = []\n",
        "    for i, sentence in enumerate(root.findall('.//sentence')):\n",
        "        words = [word.get('form') for word in sentence.findall('.//word')]\n",
        "        sentence_text = ' '.join(words)\n",
        "        sentences.append((file_id2, i, sentence_text))\n",
        "    return sentences"
      ],
      "metadata": {
        "id": "nDL8uERQqsk8"
      },
      "execution_count": null,
      "outputs": []
    },
    {
      "cell_type": "code",
      "source": [
        "print(treebank_sentences[:1])"
      ],
      "metadata": {
        "colab": {
          "base_uri": "https://localhost:8080/"
        },
        "id": "DRUfQs060lnR",
        "outputId": "4fc86636-95f8-481f-e985-3e5152877a25"
      },
      "execution_count": null,
      "outputs": [
        {
          "output_type": "stream",
          "name": "stdout",
          "text": [
            "[('tlg0012.tlg001.perseus-grc1.tb.xml', 0, [{'form': 'μῆνιν', 'lemma': 'μῆνις', 'postag': 'n-s---fa-', 'relation': 'OBJ', 'head': '2'}, {'form': 'ἄειδε', 'lemma': 'ἀείδω', 'postag': 'v2spma---', 'relation': 'PRED_CO', 'head': '32'}, {'form': 'θεὰ', 'lemma': 'θεά', 'postag': 'n-s---fv-', 'relation': 'ExD', 'head': '2'}, {'form': 'Πηληϊάδεω', 'lemma': 'Πηληιάδης', 'postag': 'n-s---mg-', 'relation': 'ATR', 'head': '5'}, {'form': 'Ἀχιλῆος', 'lemma': 'Ἀχιλλεύς', 'postag': 'n-s---mg-', 'relation': 'ATR', 'head': '1'}, {'form': 'οὐλομένην', 'lemma': 'οὐλόμενος', 'postag': 'a-s---fa-', 'relation': 'ATR', 'head': '1'}, {'form': ',', 'lemma': ',', 'postag': 'u--------', 'relation': 'AuxX', 'head': '23'}, {'form': 'ἣ', 'lemma': 'ὅς', 'postag': 'p-s---fn-', 'relation': 'SBJ', 'head': '23'}, {'form': 'μυρί̓', 'lemma': 'μυρίος', 'postag': 'a-p---na-', 'relation': 'ATR', 'head': '11'}, {'form': 'Ἀχαιοῖς', 'lemma': 'Ἀχαιός', 'postag': 'a-p---md-', 'relation': 'OBJ', 'head': '12'}, {'form': 'ἄλγἐ', 'lemma': 'ἄλγος', 'postag': 'n-p---na-', 'relation': 'OBJ', 'head': '12'}, {'form': 'ἔθηκε', 'lemma': 'τίθημι', 'postag': 'v3saia---', 'relation': 'ATR_CO', 'head': '23'}, {'form': ',', 'lemma': ',', 'postag': 'u--------', 'relation': 'AuxX', 'head': '23'}, {'form': 'πολλὰς', 'lemma': 'πολύς', 'postag': 'a-p---fa-', 'relation': 'ATR', 'head': '17'}, {'form': 'δ̓', 'lemma': 'δέ', 'postag': 'g--------', 'relation': 'AuxY', 'head': '23'}, {'form': 'ἰφθίμους', 'lemma': 'ἴφθιμος', 'postag': 'a-p---ma-', 'relation': 'ATR', 'head': '17'}, {'form': 'ψυχὰς', 'lemma': 'ψυχή', 'postag': 'n-p---fa-', 'relation': 'OBJ', 'head': '19'}, {'form': 'Ἄϊδι', 'lemma': '', 'postag': '---------', 'relation': 'OBJ', 'head': '19'}, {'form': 'προΐαψεν', 'lemma': 'προιάπτω', 'postag': 'v3saia---', 'relation': 'ATR_CO', 'head': '23'}, {'form': 'ἡρώων', 'lemma': 'ἥρως', 'postag': 'n-p---mg-', 'relation': 'ATR', 'head': '17'}, {'form': ',', 'lemma': ',', 'postag': 'u--------', 'relation': 'AuxX', 'head': '23'}, {'form': 'αὐτοὺς', 'lemma': 'αὐτός', 'postag': 'a-p---ma-', 'relation': 'OBJ', 'head': '25'}, {'form': 'δὲ', 'lemma': 'δέ', 'postag': 'g--------', 'relation': 'COORD', 'head': '1'}, {'form': 'ἑλώρια', 'lemma': 'ἑλώριον', 'postag': 'n-p---na-', 'relation': 'OCOMP', 'head': '25'}, {'form': 'τεῦχε', 'lemma': 'τεύχω', 'postag': 'v3siia---', 'relation': 'ATR_CO', 'head': '23'}, {'form': 'κύνεσσιν', 'lemma': 'κύων', 'postag': 'n-p---md-', 'relation': 'OBJ_CO', 'head': '28'}, {'form': 'οἰωνοῖσί', 'lemma': 'οἰωνός', 'postag': 'n-p---md-', 'relation': 'OBJ_CO', 'head': '28'}, {'form': 'τε', 'lemma': 'τε', 'postag': 'g--------', 'relation': 'COORD', 'head': '25'}, {'form': 'πᾶσι', 'lemma': 'πᾶς', 'postag': 'a-p---md-', 'relation': 'ATR', 'head': '27'}, {'form': ',', 'lemma': ',', 'postag': 'u--------', 'relation': 'AuxX', 'head': '32'}, {'form': 'Διὸς', 'lemma': 'Ζεύς', 'postag': 'n-s---mg-', 'relation': 'ATR', 'head': '34'}, {'form': 'δ̓', 'lemma': 'δέ', 'postag': 'g--------', 'relation': 'COORD', 'head': '0'}, {'form': 'ἐτελείετο', 'lemma': 'τελέω', 'postag': 'v3siie---', 'relation': 'PRED_CO', 'head': '32'}, {'form': 'βουλή', 'lemma': 'βουλή', 'postag': 'n-s---fn-', 'relation': 'SBJ', 'head': '33'}, {'form': ',', 'lemma': ',', 'postag': 'u--------', 'relation': 'AuxX', 'head': '41'}, {'form': 'ἐξ', 'lemma': 'ἐκ', 'postag': 'r--------', 'relation': 'AuxP', 'head': '41'}, {'form': 'οὗ', 'lemma': 'ὅς', 'postag': 'p-s---mg-', 'relation': 'ADV', 'head': '36'}, {'form': 'δὴ', 'lemma': 'δή', 'postag': 'g--------', 'relation': 'AuxY', 'head': '41'}, {'form': 'τὰ', 'lemma': 'ὁ', 'postag': 'l-p---na-', 'relation': 'ATR', 'head': '40'}, {'form': 'πρῶτα', 'lemma': 'πρῶτος', 'postag': 'a-p---na-', 'relation': 'ADV', 'head': '41'}, {'form': 'διαστήτην', 'lemma': 'διίστημι', 'postag': 'v3daia---', 'relation': 'ADV', 'head': '33'}, {'form': 'ἐρίσαντε', 'lemma': 'ἐρίζω', 'postag': 'v-dapamn-', 'relation': 'ADV', 'head': '41'}, {'form': 'Ἀτρεΐδης', 'lemma': 'Ἀτρείδης', 'postag': 'n-s---mn-', 'relation': 'SBJ_CO', 'head': '47'}, {'form': 'τε', 'lemma': 'τε', 'postag': 'g--------', 'relation': 'AuxY', 'head': '47'}, {'form': 'ἄναξ', 'lemma': 'ἄναξ', 'postag': 'n-s---mn-', 'relation': 'ATR', 'head': '43'}, {'form': 'ἀνδρῶν', 'lemma': 'ἀνήρ', 'postag': 'n-p---mg-', 'relation': 'ATR', 'head': '45'}, {'form': 'καὶ', 'lemma': 'καί', 'postag': 'c--------', 'relation': 'COORD', 'head': '41'}, {'form': 'δῖος', 'lemma': 'δῖος', 'postag': 'a-s---mn-', 'relation': 'ATR', 'head': '49'}, {'form': 'Ἀχιλλεύς', 'lemma': 'Ἀχιλλεύς', 'postag': 'n-s---mn-', 'relation': 'SBJ_CO', 'head': '47'}, {'form': '.', 'lemma': '.', 'postag': 'u--------', 'relation': 'AuxK', 'head': '0'}])]\n"
          ]
        }
      ]
    },
    {
      "cell_type": "code",
      "source": [
        "def analyze_with_spacy(sentences):\n",
        "    analyzed_sentences = []\n",
        "    for file_id, index, sentence in sentences:\n",
        "        doc = nlp(sentence)\n",
        "        analyzed_sentences.append((file_id, index, doc))\n",
        "    return analyzed_sentences"
      ],
      "metadata": {
        "id": "vu-3R546rUUS"
      },
      "execution_count": null,
      "outputs": []
    },
    {
      "cell_type": "code",
      "source": [
        "def process_directory(directory, filter_text, nb_of_sentences):\n",
        "    all_sentences = []\n",
        "    for root, dirs, files in os.walk(directory):\n",
        "        for file in files:\n",
        "            if filter_text in file:\n",
        "                file_path = os.path.join(root, file)\n",
        "                sentences = parse_treebank_file(file_path)\n",
        "                all_sentences.extend(sentences)\n",
        "                print(f\"Processed {file_path}\")\n",
        "\n",
        "    all_sentences = all_sentences[:nb_of_sentences]\n",
        "\n",
        "    analyzed_sentences = analyze_with_spacy(all_sentences)\n",
        "    return analyzed_sentences"
      ],
      "metadata": {
        "id": "h6D73ryuraaI"
      },
      "execution_count": null,
      "outputs": []
    },
    {
      "cell_type": "code",
      "source": [
        "nb_of_sentences = 100"
      ],
      "metadata": {
        "id": "CpD6we8RrfTx"
      },
      "execution_count": null,
      "outputs": []
    },
    {
      "cell_type": "code",
      "source": [
        "spacy_sentences = process_directory(greek_dir, 'tlg0012', nb_of_sentences)"
      ],
      "metadata": {
        "colab": {
          "base_uri": "https://localhost:8080/"
        },
        "id": "tK7AYakJrgoV",
        "outputId": "8d1fd2cc-9cac-4dbd-8c59-b0b263f635d8"
      },
      "execution_count": null,
      "outputs": [
        {
          "output_type": "stream",
          "name": "stdout",
          "text": [
            "Processed /content/treebank_data/v2.1/Greek/texts/tlg0012.tlg001.perseus-grc1.tb.xml\n",
            "Processed /content/treebank_data/v2.1/Greek/texts/tlg0012.tlg002.perseus-grc1.tb.xml\n"
          ]
        }
      ]
    },
    {
      "cell_type": "code",
      "source": [
        "def compare_results(treebank_sentences, spacy_sentences):\n",
        "    for (file_id_tb, index_tb, sentence_tb), (file_id_spacy, index_spacy, sentence_spacy) in zip(treebank_sentences, spacy_sentences):\n",
        "        if file_id_tb == file_id_spacy and index_tb == index_spacy:\n",
        "            print(\"treebank:\", sentence_tb)\n",
        "            print(\"spacy data:\")\n",
        "            for token in sentence_spacy:\n",
        "                print(f\"    Text: {token.text}, Lemma: {token.lemma_}, POS: {token.pos_}, Tag: {token.tag_}, Dep: {token.dep_}, Head Text: {token.head.text}\")"
      ],
      "metadata": {
        "id": "0TSs-LnI-tfR"
      },
      "execution_count": null,
      "outputs": []
    },
    {
      "cell_type": "code",
      "source": [
        "compare_results(treebank_sentences, spacy_sentences)"
      ],
      "metadata": {
        "id": "vMAunsIhAXLj"
      },
      "execution_count": null,
      "outputs": []
    },
    {
      "cell_type": "markdown",
      "source": [
        "n NOUN / PROPN\n",
        "<br>v VERB\n",
        "<br>t VERB\n",
        "<br>a ADJ\n",
        "<br>d ADV\n",
        "<br>l DET\n",
        "<br>g PART\n",
        "<br>c CCONJ\n",
        "<br>r ADP\n",
        "<br>p PRON\n",
        "<br>m NUM\n",
        "<br>i INTJ\n",
        "<br>e EXCL\n",
        "<br>u PUNCT"
      ],
      "metadata": {
        "id": "1Nygaypl4LJQ"
      }
    },
    {
      "cell_type": "code",
      "source": [
        "def compare_annotations(tb_sentence, spacy_tuple):\n",
        "    error_details = {\n",
        "        'lemma_errors': [],\n",
        "        'pos_errors': []\n",
        "    }\n",
        "\n",
        "    pos_conversion = {\n",
        "        'n': 'NOUN'\n",
        "        'n': 'PROPN'\n",
        "        'v': 'VERB',\n",
        "        't': 'VERB',\n",
        "        'a': 'ADJ',\n",
        "        'd': 'ADV',\n",
        "        'l': 'DET',\n",
        "        'g': 'PART',\n",
        "        'c': 'CCONJ',\n",
        "        'r': 'ADP',\n",
        "        'p': 'PRON',\n",
        "        'm': 'NUM',\n",
        "        'i': 'INTJ',\n",
        "        'e': 'EXCL',\n",
        "        'u': 'PUNCT'\n",
        "    }\n",
        "\n",
        "    file_id2, index, spacy_doc = spacy_tuple\n",
        "\n",
        "    for tb_word, spacy_token in zip(tb_sentence[2], spacy_doc):\n",
        "        if tb_word['lemma'] != spacy_token.lemma_:\n",
        "            error_details['lemma_errors'].append({\n",
        "                'word': tb_word['form'],\n",
        "                'tb_lemma': tb_word['lemma'],\n",
        "                'spacy_lemma': spacy_token.lemma_\n",
        "            })\n",
        "\n",
        "        if tb_word['postag'] and tb_word['postag'][0] == 'n':\n",
        "            if spacy_token.pos_ not in ['NOUN', 'PROPN']:\n",
        "                error_details['pos_errors'].append({\n",
        "                    'word': tb_word['form'],\n",
        "                    'tb_pos': tb_word['postag'],\n",
        "                    'spacy_pos': spacy_token.pos_\n",
        "                })\n",
        "        else:\n",
        "            converted_tb_pos = pos_conversion.get(tb_word['postag'][0], 'UNKNOWN') if tb_word['postag'] else 'None'\n",
        "            if converted_tb_pos != spacy_token.pos_:\n",
        "                error_details['pos_errors'].append({\n",
        "                    'word': tb_word['form'],\n",
        "                    'tb_pos': tb_word['postag'],\n",
        "                    'spacy_pos': spacy_token.pos_\n",
        "                })\n",
        "\n",
        "    return error_details"
      ],
      "metadata": {
        "id": "iSvLfEHe7VKY"
      },
      "execution_count": null,
      "outputs": []
    },
    {
      "cell_type": "code",
      "source": [
        "all_errors = {\n",
        "    'lemma_errors': [],\n",
        "    'pos_errors': []\n",
        "}\n",
        "\n",
        "for tb_sentence, spacy_tuple in zip(treebank_sentences, spacy_sentences):\n",
        "    errors = compare_annotations(tb_sentence, spacy_tuple)\n",
        "    all_errors['lemma_errors'].extend(errors['lemma_errors'])\n",
        "    all_errors['pos_errors'].extend(errors['pos_errors'])\n",
        "\n",
        "print(\"Lemma Errors:\", all_errors['lemma_errors'])\n",
        "print(\"POS Errors:\", all_errors['pos_errors'])"
      ],
      "metadata": {
        "id": "aVKQ5YQ6sLU_",
        "colab": {
          "base_uri": "https://localhost:8080/"
        },
        "outputId": "8f831be1-5faa-4f51-dd38-be983f9c43c5"
      },
      "execution_count": null,
      "outputs": [
        {
          "output_type": "stream",
          "name": "stdout",
          "text": [
            "Lemma Errors: [{'word': 'Πηληϊάδεω', 'tb_lemma': 'Πηληιάδης', 'spacy_lemma': 'Πηλείδης'}, {'word': 'ἣ', 'tb_lemma': 'ὅς', 'spacy_lemma': 'ὁ'}, {'word': 'μυρί̓', 'tb_lemma': 'μυρίος', 'spacy_lemma': 'μυρία'}, {'word': 'ἄλγἐ', 'tb_lemma': 'ἄλγος', 'spacy_lemma': 'ἄλγεα'}, {'word': 'δ̓', 'tb_lemma': 'δέ', 'spacy_lemma': 'δ̓'}, {'word': 'Ἄϊδι', 'tb_lemma': '', 'spacy_lemma': 'ᾍδης'}, {'word': 'προΐαψεν', 'tb_lemma': 'προιάπτω', 'spacy_lemma': 'προϊάπτω'}, {'word': 'ἑλώρια', 'tb_lemma': 'ἑλώριον', 'spacy_lemma': 'ἕλωρ'}, {'word': 'δ̓', 'tb_lemma': 'δέ', 'spacy_lemma': 'δ̓'}, {'word': 'διαστήτην', 'tb_lemma': 'διίστημι', 'spacy_lemma': 'διΐστημι'}, {'word': 'τ̓', 'tb_lemma': 'τε', 'spacy_lemma': 'τ̓'}, {'word': '[0]', 'tb_lemma': None, 'spacy_lemma': '['}, {'word': 'τ̓', 'tb_lemma': 'τε', 'spacy_lemma': 'τ̓'}, {'word': 'ἀπερείσἰ', 'tb_lemma': 'ἀπερείσιος', 'spacy_lemma': 'ἀπερείσια'}, {'word': 'στέμματ̓', 'tb_lemma': 'στέμμα', 'spacy_lemma': 'στέμματα'}, {'word': 'μάλιστα', 'tb_lemma': 'μάλιστα', 'spacy_lemma': 'μάλα'}, {'word': 'ἐϋκνήμιδες', 'tb_lemma': 'ἐυκνήμις', 'spacy_lemma': 'ἐυ'}, {'word': 'ὑμῖν', 'tb_lemma': 'σύ', 'spacy_lemma': 'ὑμεῖς'}, {'word': 'δώματ̓', 'tb_lemma': 'δῶμα', 'spacy_lemma': 'δώματα'}, {'word': 'δ̓', 'tb_lemma': 'δέ', 'spacy_lemma': 'δ̓'}, {'word': 'οἴκαδ̓', 'tb_lemma': 'οἴκαδε', 'spacy_lemma': 'οἴκαδ̓'}, {'word': 'δ̓', 'tb_lemma': 'δέ', 'spacy_lemma': 'δ̓'}, {'word': 'δ̓', 'tb_lemma': 'δέ', 'spacy_lemma': 'δ̓'}, {'word': '[0]', 'tb_lemma': None, 'spacy_lemma': '['}, {'word': 'θ̓', 'tb_lemma': 'τε', 'spacy_lemma': 'θ̓'}, {'word': 'ἀλλ̓', 'tb_lemma': 'ἀλλά', 'spacy_lemma': 'ἀλλα'}, {'word': 'κακῶς', 'tb_lemma': 'κακός', 'spacy_lemma': 'κακῶς'}, {'word': 'δ̓', 'tb_lemma': 'δέ', 'spacy_lemma': 'δ̓'}, {'word': 'δηθύνοντ̓', 'tb_lemma': 'δηθύνω', 'spacy_lemma': 'δηθύνοντα'}, {'word': 'δ̓', 'tb_lemma': 'δέ', 'spacy_lemma': 'δ̓'}, {'word': 'ἐνὶ', 'tb_lemma': 'ἐν', 'spacy_lemma': 'εἷς'}, {'word': 'τηλόθι', 'tb_lemma': 'τηλόθι', 'spacy_lemma': 'τῆλε'}, {'word': 'πάτρης', 'tb_lemma': 'πάτρη', 'spacy_lemma': 'πάτρα'}, {'word': 'ἀλλ̓', 'tb_lemma': 'ἀλλά', 'spacy_lemma': 'ἀλλα'}, {'word': 'μ̓', 'tb_lemma': 'ἐγώ', 'spacy_lemma': 'μ̓'}, {'word': 'σαώτερος', 'tb_lemma': 'σῶς', 'spacy_lemma': 'σάος'}, {'word': 'νέηαι', 'tb_lemma': 'νέομαι', 'spacy_lemma': 'νεάω'}, {'word': '[0]', 'tb_lemma': None, 'spacy_lemma': '['}, {'word': 'ἔφατ̓', 'tb_lemma': 'φημί', 'spacy_lemma': 'ἔφατα'}, {'word': 'δ̓', 'tb_lemma': 'δέ', 'spacy_lemma': 'δ̓'}, {'word': 'δ̓', 'tb_lemma': 'δέ', 'spacy_lemma': 'δ̓'}, {'word': 'δ̓', 'tb_lemma': 'δέ', 'spacy_lemma': 'δ̓'}, {'word': 'ἠρᾶθ̓', 'tb_lemma': 'ἀράομαι', 'spacy_lemma': 'ἠρᾶθα'}, {'word': 'ἀργυρότοξ̓', 'tb_lemma': 'ἀργυρότοξος', 'spacy_lemma': 'ἀργυρότοξα'}, {'word': 'ποτέ', 'tb_lemma': 'ποτέ', 'spacy_lemma': 'ποτε'}, {'word': 'χαρίεντ̓', 'tb_lemma': 'χαρίεις', 'spacy_lemma': 'χαρίεντα'}, {'word': 'ἔρεψα', 'tb_lemma': 'ἐρέφω', 'spacy_lemma': 'ῥέπω'}, {'word': 'ποτέ', 'tb_lemma': 'ποτέ', 'spacy_lemma': 'ποτε'}, {'word': 'ἠδ̓', 'tb_lemma': 'ἠδέ', 'spacy_lemma': 'ἠδος'}, {'word': 'τίσειαν', 'tb_lemma': 'τίνω', 'spacy_lemma': 'τίω'}, {'word': 'ἔφατ̓', 'tb_lemma': 'φημί', 'spacy_lemma': 'ἔφατα'}, {'word': 'δ̓', 'tb_lemma': 'δέ', 'spacy_lemma': 'δ̓'}, {'word': 'κατ̓', 'tb_lemma': 'κατά', 'spacy_lemma': 'κατα'}, {'word': 'τόξ̓', 'tb_lemma': 'τόξον', 'spacy_lemma': 'τόξα'}, {'word': 'δ̓', 'tb_lemma': 'δέ', 'spacy_lemma': 'δ̓'}, {'word': 'ἄῤ', 'tb_lemma': 'ἄρα', 'spacy_lemma': 'ἄρω'}, {'word': 'ὀϊστοὶ', 'tb_lemma': 'ὀιστός', 'spacy_lemma': 'ὀϊστός'}, {'word': 'ἐπ̓', 'tb_lemma': 'ἐπί', 'spacy_lemma': 'ἐπω'}, {'word': 'δ̓', 'tb_lemma': 'δέ', 'spacy_lemma': 'δ̓'}, {'word': 'ἕζετ̓', 'tb_lemma': 'ἕζομαι', 'spacy_lemma': 'ἕζετα'}, {'word': 'δ̓', 'tb_lemma': 'δέ', 'spacy_lemma': 'δ̓'}, {'word': 'ἰὸν', 'tb_lemma': 'ἰός', 'spacy_lemma': 'εἶμι'}, {'word': 'γένετ̓', 'tb_lemma': 'γίγνομαι', 'spacy_lemma': 'γένετα'}, {'word': 'οὐρῆας', 'tb_lemma': 'ὀρεύς', 'spacy_lemma': 'οὐρεύς'}, {'word': 'βάλλ̓', 'tb_lemma': 'βάλλω', 'spacy_lemma': 'βάλλ̓'}, {'word': 'πυραὶ', 'tb_lemma': 'πυρή', 'spacy_lemma': 'πυρά'}, {'word': 'δ̓', 'tb_lemma': 'δέ', 'spacy_lemma': 'δ̓'}, {'word': '[0]', 'tb_lemma': None, 'spacy_lemma': '['}, {'word': 'θνήσκοντας', 'tb_lemma': 'θνήσκω', 'spacy_lemma': 'θνήσκων'}, {'word': 'δ̓', 'tb_lemma': 'δέ', 'spacy_lemma': 'δ̓'}, {'word': 'δ̓', 'tb_lemma': 'δέ', 'spacy_lemma': 'δ̓'}, {'word': 'ἀλλ̓', 'tb_lemma': 'ἀλλά', 'spacy_lemma': 'ἀλλα'}, {'word': 'ἄγε', 'tb_lemma': 'ἄγε', 'spacy_lemma': 'ἄγω'}, {'word': 'τινα', 'tb_lemma': 'τις', 'spacy_lemma': 'τίς'}, {'word': 'τ̓', 'tb_lemma': 'τε', 'spacy_lemma': 'τ̓'}, {'word': 'κ̓', 'tb_lemma': 'ἄν', 'spacy_lemma': 'κ̓'}, {'word': 'εἴποι', 'tb_lemma': 'εἶπον', 'spacy_lemma': 'λέγω'}, {'word': 'τι', 'tb_lemma': 'τις', 'spacy_lemma': 'τίς'}, {'word': 'εἴτ̓', 'tb_lemma': 'εἴτε', 'spacy_lemma': 'εἴτ̓'}, {'word': 'ἄῤ', 'tb_lemma': 'ἄρα', 'spacy_lemma': 'ἄρος'}, {'word': 'ὅ', 'tb_lemma': 'ὁ', 'spacy_lemma': 'ὅς'}, {'word': 'γ̓', 'tb_lemma': 'γε', 'spacy_lemma': 'γ̓'}, {'word': 'ἠδ̓', 'tb_lemma': 'ἠδέ', 'spacy_lemma': 'ἠδος'}, {'word': 'ἀντιάσας', 'tb_lemma': 'ἀντιάω', 'spacy_lemma': 'ἀντιάζω'}, {'word': 'ἡμῖν', 'tb_lemma': 'ἐγώ', 'spacy_lemma': 'ἡμεῖς'}, {'word': 'ὅ', 'tb_lemma': 'ὁ', 'spacy_lemma': 'ὅς'}, {'word': 'γ̓', 'tb_lemma': 'γε', 'spacy_lemma': 'γ̓'}, {'word': 'εἰπὼν', 'tb_lemma': 'εἶπον', 'spacy_lemma': 'λέγω'}, {'word': 'κατ̓', 'tb_lemma': 'κατά', 'spacy_lemma': 'κατα'}, {'word': 'ἄῤ', 'tb_lemma': 'ἄρα', 'spacy_lemma': 'ἄρος'}, {'word': 'δ̓', 'tb_lemma': 'δέ', 'spacy_lemma': 'δ̓'}, {'word': 'ὄχ̓', 'tb_lemma': 'ὄχα', 'spacy_lemma': 'ὄχος'}, {'word': 'ἄριστος', 'tb_lemma': 'ἄριστος', 'spacy_lemma': 'ἀγαθός'}, {'word': 'τ̓', 'tb_lemma': 'τε', 'spacy_lemma': 'τ̓'}, {'word': 'τ̓', 'tb_lemma': 'τε', 'spacy_lemma': 'τ̓'}, {'word': 'τ̓', 'tb_lemma': 'τε', 'spacy_lemma': 'τ̓'}, {'word': 'νήεσσ̓', 'tb_lemma': 'ναῦς', 'spacy_lemma': 'νήεσσα'}, {'word': 'ἡγήσατ̓', 'tb_lemma': 'ἡγέομαι', 'spacy_lemma': 'ἡγήσατα'}, {'word': 'ἣν', 'tb_lemma': 'ἑός', 'spacy_lemma': 'ὅς'}, {'word': 'οἱ', 'tb_lemma': 'ἕ', 'spacy_lemma': 'ὁ'}, {'word': 'πόρε', 'tb_lemma': 'πόρω', 'spacy_lemma': 'πορεῖν'}, {'word': 'ὅ', 'tb_lemma': 'ὁ', 'spacy_lemma': 'ὅς'}, {'word': 'κέλεαί', 'tb_lemma': 'κέλομαι', 'spacy_lemma': 'κέλεαί'}, {'word': '[0]', 'tb_lemma': None, 'spacy_lemma': '['}, {'word': '[1]', 'tb_lemma': None, 'spacy_lemma': '0'}, {'word': 'ἐρέω', 'tb_lemma': 'ἐρῶ', 'spacy_lemma': 'λέγω'}, {'word': 'οἱ', 'tb_lemma': 'ἕ', 'spacy_lemma': 'ὁ'}, {'word': '[0]', 'tb_lemma': None, 'spacy_lemma': '['}, {'word': 'δ̓', 'tb_lemma': 'δέ', 'spacy_lemma': 'δ̓'}, {'word': 'εἰπὲ', 'tb_lemma': 'εἶπον', 'spacy_lemma': 'λέγω'}, {'word': 'τι', 'tb_lemma': 'τις', 'spacy_lemma': 'τίς'}, {'word': 'τις', 'tb_lemma': 'τις', 'spacy_lemma': 'τίς'}, {'word': 'ζῶντος', 'tb_lemma': 'ζάω', 'spacy_lemma': 'ζῶ'}, {'word': 'δ̓', 'tb_lemma': 'δέ', 'spacy_lemma': 'δ̓'}, {'word': 'εἴπῃς', 'tb_lemma': 'εἶπον', 'spacy_lemma': 'λέγω'}, {'word': 'ἄριστος', 'tb_lemma': 'ἄριστος', 'spacy_lemma': 'ἀγαθός'}, {'word': 'τ̓', 'tb_lemma': 'τε', 'spacy_lemma': 'τ̓'}, {'word': 'ὅ', 'tb_lemma': 'ὁ', 'spacy_lemma': 'ὅς'}, {'word': 'γ̓', 'tb_lemma': 'γε', 'spacy_lemma': 'γ̓'}, {'word': 'δ̓', 'tb_lemma': 'δέ', 'spacy_lemma': 'δ̓'}, {'word': 'ἀλλ̓', 'tb_lemma': 'ἀλλά', 'spacy_lemma': 'ἀλλ̓'}, {'word': 'ἀρητῆρος', 'tb_lemma': 'ἀρητήρ', 'spacy_lemma': 'ἀρητῆρος'}, {'word': 'ἠτίμησ̓', 'tb_lemma': 'ἀτιμάω', 'spacy_lemma': 'ἠτίμησ̓'}, {'word': 'δ̓', 'tb_lemma': 'δέ', 'spacy_lemma': 'δ̓'}, {'word': 'ἀπεδέξατ̓', 'tb_lemma': 'ἀποδέχομαι', 'spacy_lemma': 'ἀπεδέξατα'}, {'word': 'ἄῤ', 'tb_lemma': 'ἄρα', 'spacy_lemma': 'ἄρος'}, {'word': 'ἄλγἐ', 'tb_lemma': 'ἄλγος', 'spacy_lemma': 'ἄλγεα'}, {'word': 'ἠδ̓', 'tb_lemma': 'ἠδέ', 'spacy_lemma': 'ἠδος'}, {'word': 'δ̓', 'tb_lemma': 'δέ', 'spacy_lemma': 'δ̓'}, {'word': 'ὅ', 'tb_lemma': 'ὁ', 'spacy_lemma': 'ὅς'}, {'word': 'γ̓', 'tb_lemma': 'γε', 'spacy_lemma': 'γ̓'}, {'word': 'θ̓', 'tb_lemma': 'τε', 'spacy_lemma': 'θ̓'}, {'word': '[0]', 'tb_lemma': None, 'spacy_lemma': '['}, {'word': 'ἱλασσάμενοι', 'tb_lemma': 'ἱλάομαι', 'spacy_lemma': 'ἱλάσκομαι'}, {'word': 'ὅ', 'tb_lemma': 'ὁ', 'spacy_lemma': 'ὅς'}, {'word': 'γ̓', 'tb_lemma': 'γε', 'spacy_lemma': 'γ̓'}, {'word': 'εἰπὼν', 'tb_lemma': 'εἶπον', 'spacy_lemma': 'λέγω'}, {'word': 'κατ̓', 'tb_lemma': 'κατά', 'spacy_lemma': 'κατα'}, {'word': 'ἄῤ', 'tb_lemma': 'ἄρα', 'spacy_lemma': 'ἄρος'}, {'word': 'δ̓', 'tb_lemma': 'δέ', 'spacy_lemma': 'δ̓'}, {'word': 'πίμπλαντ̓', 'tb_lemma': 'πίμπλημι', 'spacy_lemma': 'πίμπλαντα'}, {'word': 'ὄσσε', 'tb_lemma': 'ὄσσε', 'spacy_lemma': 'ὄσσα'}, {'word': 'οἱ', 'tb_lemma': 'ἕ', 'spacy_lemma': 'ὁ'}, {'word': 'κάκ̓', 'tb_lemma': 'κακός', 'spacy_lemma': 'κάκα'}, {'word': 'προσέειπε', 'tb_lemma': 'προσεῖπον', 'spacy_lemma': 'προσαγορεύω'}, {'word': 'ποτέ', 'tb_lemma': 'ποτέ', 'spacy_lemma': 'ποτε'}, {'word': 'εἶπας', 'tb_lemma': 'εἶπον', 'spacy_lemma': 'λέγω'}, {'word': 'κάκ̓', 'tb_lemma': 'κακός', 'spacy_lemma': 'κάκα'}, {'word': 'δ̓', 'tb_lemma': 'δέ', 'spacy_lemma': 'δ̓'}, {'word': 'τί', 'tb_lemma': 'τις', 'spacy_lemma': 'τίς'}, {'word': 'εἶπας', 'tb_lemma': 'εἶπον', 'spacy_lemma': 'λέγω'}, {'word': 'οὔ', 'tb_lemma': 'οὔτι', 'spacy_lemma': 'οὐ'}, {'word': 'τ̓', 'tb_lemma': 'τε', 'spacy_lemma': 'τ̓'}, {'word': 'τοῦδ̓', 'tb_lemma': 'ὅδε', 'spacy_lemma': 'τοῦδα'}, {'word': 'Κλυταιμνήστρης', 'tb_lemma': 'Κλυταιμνήστρη', 'spacy_lemma': 'Κλυταιμνήστρα'}, {'word': 'οὐ', 'tb_lemma': 'οὐδέ', 'spacy_lemma': 'οὐ'}, {'word': 'τ̓', 'tb_lemma': 'τε', 'spacy_lemma': 'τ̓'}, {'word': 'τι', 'tb_lemma': 'τις', 'spacy_lemma': 'τίς'}, {'word': '[0]', 'tb_lemma': None, 'spacy_lemma': '['}, {'word': 'γ̓', 'tb_lemma': 'γε', 'spacy_lemma': 'γ̓'}, {'word': 'ἄμεινον', 'tb_lemma': 'ἀμείνων', 'spacy_lemma': 'ἀγαθός'}, {'word': '[0]', 'tb_lemma': None, 'spacy_lemma': '['}, {'word': 'βούλομ̓', 'tb_lemma': 'βούλομαι', 'spacy_lemma': 'βούλομα'}, {'word': 'σῶν', 'tb_lemma': 'σῶς', 'spacy_lemma': 'σός'}, {'word': 'ἔμμεναι', 'tb_lemma': 'εἰμί', 'spacy_lemma': 'ἔμμεναι'}, {'word': 'αὐτίχ̓', 'tb_lemma': 'αὐτίκα', 'spacy_lemma': 'αὐτίχα'}, {'word': 'ἑτοιμάσατ̓', 'tb_lemma': 'ἑτοιμάζω', 'spacy_lemma': 'ἑτοιμάσατος'}, {'word': '[0]', 'tb_lemma': None, 'spacy_lemma': '['}, {'word': 'δ̓', 'tb_lemma': 'δέ', 'spacy_lemma': 'δ̓'}, {'word': 'ἠμείβετ̓', 'tb_lemma': 'ἀμείβω', 'spacy_lemma': 'ἠμείβετα'}, {'word': 'ποδάρκης', 'tb_lemma': 'ποδάρκης', 'spacy_lemma': 'ποδαρκής'}, {'word': 'τί', 'tb_lemma': 'τις', 'spacy_lemma': 'τίς'}, {'word': 'που', 'tb_lemma': 'πού', 'spacy_lemma': 'ποῦ'}, {'word': 'δ̓', 'tb_lemma': 'δέ', 'spacy_lemma': 'δ̓'}, {'word': 'ἐπέοικε', 'tb_lemma': 'ἐπέοικε', 'spacy_lemma': 'ἐπέοικα'}, {'word': 'ταῦτ̓', 'tb_lemma': 'οὗτος', 'spacy_lemma': 'ταῦτα'}, {'word': 'τ̓', 'tb_lemma': 'τε', 'spacy_lemma': 'τ̓'}, {'word': 'δ̓', 'tb_lemma': 'δέ', 'spacy_lemma': 'δ̓'}, {'word': 'δ̓', 'tb_lemma': 'δέ', 'spacy_lemma': 'δ̓'}, {'word': 'θεοείκελ̓', 'tb_lemma': 'θεοείκελος', 'spacy_lemma': 'θεοείκελα'}, {'word': 'ὄφῤ', 'tb_lemma': 'ὄφρα', 'spacy_lemma': 'ὄφῤ'}, {'word': 'ἔμ̓', 'tb_lemma': 'ἐγώ', 'spacy_lemma': 'ἔμος'}, {'word': 'τήνδ̓', 'tb_lemma': 'ὅδε', 'spacy_lemma': 'τήνδα'}, {'word': 'ἀλλ̓', 'tb_lemma': 'ἀλλά', 'spacy_lemma': 'ἀλλ̓'}, {'word': '[0]', 'tb_lemma': None, 'spacy_lemma': '['}, {'word': '[0]', 'tb_lemma': None, 'spacy_lemma': '['}, {'word': 'ἀλλ̓', 'tb_lemma': 'ἀλλά', 'spacy_lemma': 'ἀλλα'}, {'word': 'δ̓', 'tb_lemma': 'δέ', 'spacy_lemma': 'δ̓'}, {'word': 'ἄγε', 'tb_lemma': 'ἄγε', 'spacy_lemma': 'ἄγω'}, {'word': 'ἅλα', 'tb_lemma': 'ἅλς', 'spacy_lemma': 'ἅλας'}, {'word': 'δ̓', 'tb_lemma': 'δέ', 'spacy_lemma': 'δ̓'}, {'word': 'δ̓', 'tb_lemma': 'δέ', 'spacy_lemma': 'δ̓'}, {'word': 'ἂν', 'tb_lemma': 'ἀνά', 'spacy_lemma': 'ἄν'}, {'word': 'δ̓', 'tb_lemma': 'δέ', 'spacy_lemma': 'δ̓'}, {'word': 'τις', 'tb_lemma': 'τις', 'spacy_lemma': 'τίς'}, {'word': 'ἠὲ', 'tb_lemma': 'ἠέ', 'spacy_lemma': 'ἤ'}, {'word': 'Πηλεΐδη', 'tb_lemma': 'Πηλείδης', 'spacy_lemma': 'Πηλεΐδης'}, {'word': 'ἐκπαγλότατ̓', 'tb_lemma': 'ἔκπαγλος', 'spacy_lemma': 'ἐκπαγλότατα'}, {'word': 'ὄφῤ', 'tb_lemma': 'ὄφρα', 'spacy_lemma': 'ὄφῤ'}, {'word': 'ἑκάεργον', 'tb_lemma': 'ʽἑκάεργος', 'spacy_lemma': 'ἑκάεργος'}, {'word': 'ἱερὰ', 'tb_lemma': 'ἱερόν', 'spacy_lemma': 'ἱερός'}, {'word': 'δ̓', 'tb_lemma': 'δέ', 'spacy_lemma': 'δ̓'}, {'word': 'ἄῤ', 'tb_lemma': 'ἄρα', 'spacy_lemma': 'ἄρος'}, {'word': 'ἰδὼν', 'tb_lemma': 'εἶδον', 'spacy_lemma': 'ὁράω'}, {'word': 'κερδαλεόφρον', 'tb_lemma': 'κερδαλεόφρων', 'spacy_lemma': 'κερδαλεόφρος'}, {'word': 'τίς', 'tb_lemma': 'τις', 'spacy_lemma': 'τίς'}, {'word': 'τί', 'tb_lemma': 'τις', 'spacy_lemma': 'τίς'}, {'word': 'πώποτ̓', 'tb_lemma': 'πώποτε', 'spacy_lemma': 'πώποτα'}, {'word': 'ποτ̓', 'tb_lemma': 'ποτέ', 'spacy_lemma': 'ποτ̓'}, {'word': 'Φθίῃ', 'tb_lemma': '', 'spacy_lemma': 'Φθία'}, {'word': 'ἐδηλήσαντ̓', 'tb_lemma': 'δηλέομαι', 'spacy_lemma': 'ἐδηλήσαντα'}, {'word': '[0]', 'tb_lemma': None, 'spacy_lemma': '['}, {'word': '[1]', 'tb_lemma': None, 'spacy_lemma': '0'}, {'word': '[3]', 'tb_lemma': None, 'spacy_lemma': ']'}, {'word': '[2]', 'tb_lemma': None, 'spacy_lemma': '['}, {'word': 'μέγ̓', 'tb_lemma': 'μέγας', 'spacy_lemma': 'μέγ̓'}, {'word': 'ἅμ̓', 'tb_lemma': 'ἅμα', 'spacy_lemma': 'ἅμ̓'}, {'word': 'ἑσπόμεθ̓', 'tb_lemma': 'ἕπομαι', 'spacy_lemma': 'ἑσπόμεθα'}, {'word': 'τι', 'tb_lemma': 'τις', 'spacy_lemma': 'τίς'}, {'word': 'μετατρέπῃ', 'tb_lemma': 'μετατρέπομαι', 'spacy_lemma': 'μετατρέπω'}, {'word': 'δ̓', 'tb_lemma': 'δέ', 'spacy_lemma': 'δ̓'}, {'word': 'ποτε', 'tb_lemma': 'ποτέ', 'spacy_lemma': 'ποτε'}, {'word': 'ὁππότ̓', 'tb_lemma': 'ὁπότε', 'spacy_lemma': 'ὁππότα'}, {'word': 'ἐκπέρσωσ̓', 'tb_lemma': 'ἐκπέρθω', 'spacy_lemma': 'ἐκπέρσωσα'}, {'word': 'πλεῖον', 'tb_lemma': 'πλείων', 'spacy_lemma': 'πολύς'}, {'word': 'διέπουσ̓', 'tb_lemma': 'διέπω', 'spacy_lemma': 'διέπουσον'}, {'word': 'ποτε', 'tb_lemma': 'ποτέ', 'spacy_lemma': 'ποτε'}, {'word': 'δ̓', 'tb_lemma': 'δέ', 'spacy_lemma': 'δ̓'}, {'word': 'ἔρχομ̓', 'tb_lemma': 'ἔρχομαι', 'spacy_lemma': 'ἔρχομα'}, {'word': '[0]', 'tb_lemma': None, 'spacy_lemma': '['}, {'word': '[1]', 'tb_lemma': None, 'spacy_lemma': '0'}, {'word': 'δ̓', 'tb_lemma': 'δέ', 'spacy_lemma': 'δ̓'}, {'word': 'Φθίην', 'tb_lemma': '', 'spacy_lemma': 'Φθία'}, {'word': 'δ̓', 'tb_lemma': 'δέ', 'spacy_lemma': 'δ̓'}, {'word': 'φέρτερόν', 'tb_lemma': 'φέρτατος', 'spacy_lemma': 'φέρτερος'}, {'word': 'οἴκαδ̓', 'tb_lemma': 'οἴκαδε', 'spacy_lemma': 'οἴκαδ̓'}, {'word': 'σ̓', 'tb_lemma': 'σοί', 'spacy_lemma': 'σ̓'}, {'word': 'ἐνθάδ̓', 'tb_lemma': 'ἐνθάδε', 'spacy_lemma': 'ἐνθάδα'}, {'word': 'ἀφύξειν', 'tb_lemma': 'ἀφύσσω', 'spacy_lemma': 'ἀφύξω'}, {'word': 'δ̓', 'tb_lemma': 'δέ', 'spacy_lemma': 'δ̓'}, {'word': 'ἠμείβετ̓', 'tb_lemma': 'ἀμείβω', 'spacy_lemma': 'ἠμείβετα'}, {'word': 'μάλ̓', 'tb_lemma': 'μάλα', 'spacy_lemma': 'μάλ̓'}, {'word': 'σ̓', 'tb_lemma': 'σύ', 'spacy_lemma': 'σ̓'}, {'word': 'εἵνεκ̓', 'tb_lemma': 'ἕνεκα', 'spacy_lemma': 'εἵνεκα'}, {'word': 'πάῤ', 'tb_lemma': 'πάρειμι', 'spacy_lemma': 'πάρα'}, {'word': 'μάλιστα', 'tb_lemma': 'μάλιστα', 'spacy_lemma': 'μάλα'}, {'word': '[0]', 'tb_lemma': None, 'spacy_lemma': '['}, {'word': '[1]', 'tb_lemma': None, 'spacy_lemma': '0'}, {'word': 'διοτρεφέων', 'tb_lemma': 'Διοτρεφής', 'spacy_lemma': 'διοτρεφής'}, {'word': '[0]', 'tb_lemma': None, 'spacy_lemma': '['}, {'word': 'που', 'tb_lemma': 'πού', 'spacy_lemma': 'ποῦ'}, {'word': 'γ̓', 'tb_lemma': 'γε', 'spacy_lemma': 'γ̓'}, {'word': 'οἴκαδ̓', 'tb_lemma': 'οἴκαδε', 'spacy_lemma': 'οἴκαδ̓'}, {'word': 'δ̓', 'tb_lemma': 'δέ', 'spacy_lemma': 'δ̓'}, {'word': 'δ̓', 'tb_lemma': 'δέ', 'spacy_lemma': 'δ̓'}, {'word': 'ἔμ̓', 'tb_lemma': 'ἐγώ', 'spacy_lemma': 'ἔμος'}, {'word': 'τ̓', 'tb_lemma': 'τε', 'spacy_lemma': 'τ̓'}, {'word': 'κ̓', 'tb_lemma': 'ἄν', 'spacy_lemma': 'κ̓μαι'}, {'word': 'ὄφῤ', 'tb_lemma': 'ὄφρα', 'spacy_lemma': 'ὄφῤ'}, {'word': 'στυγέῃ', 'tb_lemma': 'στυγέω', 'spacy_lemma': 'στυγέῃ'}, {'word': '[0]', 'tb_lemma': None, 'spacy_lemma': '['}, {'word': '[1]', 'tb_lemma': None, 'spacy_lemma': '0'}, {'word': 'δ̓', 'tb_lemma': 'δέ', 'spacy_lemma': 'δ̓'}, {'word': 'γένετ̓', 'tb_lemma': 'γίγνομαι', 'spacy_lemma': 'γένετα'}, {'word': 'οἱ', 'tb_lemma': 'ἕ', 'spacy_lemma': 'ὁ'}, {'word': 'ὅ', 'tb_lemma': 'ὁ', 'spacy_lemma': 'ὅς'}, {'word': 'δ̓', 'tb_lemma': 'δέ', 'spacy_lemma': 'δ̓'}, {'word': 'ταῦθ̓', 'tb_lemma': 'οὗτος', 'spacy_lemma': 'ταῦθα'}, {'word': 'δ̓', 'tb_lemma': 'δέ', 'spacy_lemma': 'δ̓'}, {'word': 'δ̓', 'tb_lemma': 'δέ', 'spacy_lemma': 'δ̓'}, {'word': 'ἧκε', 'tb_lemma': 'ἵημι', 'spacy_lemma': 'ἥκω'}, {'word': '[0]', 'tb_lemma': None, 'spacy_lemma': '['}, {'word': 'δ̓', 'tb_lemma': 'δέ', 'spacy_lemma': 'δ̓'}, {'word': 'Πηλεΐωνα', 'tb_lemma': 'Πηλείων', 'spacy_lemma': 'Πηλεύς'}, {'word': 'δ̓', 'tb_lemma': 'δέ', 'spacy_lemma': 'δ̓'}, {'word': 'τις', 'tb_lemma': 'τις', 'spacy_lemma': 'τίς'}]\n",
            "POS Errors: [{'word': 'οὐλομένην', 'tb_pos': 'a-s---fa-', 'spacy_pos': 'VERB'}, {'word': 'μυρί̓', 'tb_pos': 'a-p---na-', 'spacy_pos': 'ADV'}, {'word': 'δ̓', 'tb_pos': 'g--------', 'spacy_pos': 'ADV'}, {'word': 'Ἄϊδι', 'tb_pos': '---------', 'spacy_pos': 'ADV'}, {'word': 'δὲ', 'tb_pos': 'g--------', 'spacy_pos': 'ADV'}, {'word': 'ἑλώρια', 'tb_pos': 'n-p---na-', 'spacy_pos': 'ADJ'}, {'word': 'τε', 'tb_pos': 'g--------', 'spacy_pos': 'CCONJ'}, {'word': 'πᾶσι', 'tb_pos': 'a-p---md-', 'spacy_pos': 'DET'}, {'word': 'δ̓', 'tb_pos': 'g--------', 'spacy_pos': 'ADV'}, {'word': 'δὴ', 'tb_pos': 'g--------', 'spacy_pos': 'ADV'}, {'word': 'τε', 'tb_pos': 'g--------', 'spacy_pos': 'CCONJ'}, {'word': 'δῖος', 'tb_pos': 'a-s---mn-', 'spacy_pos': 'PROPN'}, {'word': 'τίς', 'tb_pos': 'x--------', 'spacy_pos': 'PRON'}, {'word': 'τ̓', 'tb_pos': 'g--------', 'spacy_pos': 'ADV'}, {'word': 'ἄρ', 'tb_pos': 'g--------', 'spacy_pos': 'ADV'}, {'word': 'σφωε', 'tb_pos': 'p-d---ma-', 'spacy_pos': 'PROPN'}, {'word': '[0]', 'tb_pos': None, 'spacy_pos': 'PUNCT'}, {'word': 'γὰρ', 'tb_pos': 'g--------', 'spacy_pos': 'ADV'}, {'word': 'δὲ', 'tb_pos': 'g--------', 'spacy_pos': 'ADV'}, {'word': 'οὕνεκα', 'tb_pos': 'c--------', 'spacy_pos': 'ADV'}, {'word': 'Χρύσην', 'tb_pos': 'n-s---ma-', 'spacy_pos': 'ADJ'}, {'word': 'γὰρ', 'tb_pos': 'g--------', 'spacy_pos': 'ADV'}, {'word': 'θοὰς', 'tb_pos': 'a-p---fa-', 'spacy_pos': 'PROPN'}, {'word': 'τε', 'tb_pos': 'g--------', 'spacy_pos': 'CCONJ'}, {'word': 'τ̓', 'tb_pos': 'g--------', 'spacy_pos': 'CCONJ'}, {'word': 'ἀπερείσἰ', 'tb_pos': 'a-p---na-', 'spacy_pos': 'NOUN'}, {'word': 'πάντας', 'tb_pos': 'a-p---ma-', 'spacy_pos': 'DET'}, {'word': 'δὲ', 'tb_pos': 'g--------', 'spacy_pos': 'ADV'}, {'word': 'κοσμήτορε', 'tb_pos': 'n-d---ma-', 'spacy_pos': 'ADJ'}, {'word': 'τε', 'tb_pos': 'g--------', 'spacy_pos': 'CCONJ'}, {'word': 'ἄλλοι', 'tb_pos': 'a-p---mv-', 'spacy_pos': 'DET'}, {'word': 'μὲν', 'tb_pos': 'g--------', 'spacy_pos': 'ADV'}, {'word': 'δ̓', 'tb_pos': 'g--------', 'spacy_pos': 'ADV'}, {'word': 'δ̓', 'tb_pos': 'g--------', 'spacy_pos': 'ADV'}, {'word': 'δ̓', 'tb_pos': 'g--------', 'spacy_pos': 'ADV'}, {'word': '[0]', 'tb_pos': None, 'spacy_pos': 'PUNCT'}, {'word': 'μὲν', 'tb_pos': 'g--------', 'spacy_pos': 'ADV'}, {'word': 'πάντες', 'tb_pos': 'a-p---mn-', 'spacy_pos': 'DET'}, {'word': 'θ̓', 'tb_pos': 'g--------', 'spacy_pos': 'ADV'}, {'word': 'ἀλλ̓', 'tb_pos': 'd--------', 'spacy_pos': 'CCONJ'}, {'word': 'δ̓', 'tb_pos': 'g--------', 'spacy_pos': 'ADV'}, {'word': 'μή', 'tb_pos': 'c--------', 'spacy_pos': 'ADV'}, {'word': 'τὴν', 'tb_pos': 'p-s---fa-', 'spacy_pos': 'DET'}, {'word': 'δ̓', 'tb_pos': 'g--------', 'spacy_pos': 'ADV'}, {'word': 'πρίν', 'tb_pos': 'd--------', 'spacy_pos': 'SCONJ'}, {'word': 'ἐνὶ', 'tb_pos': 'r--------', 'spacy_pos': 'NUM'}, {'word': 'τηλόθι', 'tb_pos': 'r--------', 'spacy_pos': 'ADV'}, {'word': 'ἀλλ̓', 'tb_pos': 'd--------', 'spacy_pos': 'CCONJ'}, {'word': 'ὥς', 'tb_pos': 'c--------', 'spacy_pos': 'ADV'}, {'word': 'κε', 'tb_pos': 'g--------', 'spacy_pos': 'ADV'}, {'word': '[0]', 'tb_pos': None, 'spacy_pos': 'PUNCT'}, {'word': 'ὣς', 'tb_pos': 'd--------', 'spacy_pos': 'SCONJ'}, {'word': 'δ̓', 'tb_pos': 'g--------', 'spacy_pos': 'ADV'}, {'word': 'δ̓', 'tb_pos': 'g--------', 'spacy_pos': 'ADV'}, {'word': 'ἀκέων', 'tb_pos': 'a-s---mn-', 'spacy_pos': 'NOUN'}, {'word': 'δ̓', 'tb_pos': 'g--------', 'spacy_pos': 'ADV'}, {'word': 'ἠρᾶθ̓', 'tb_pos': 'v3siie---', 'spacy_pos': 'PROPN'}, {'word': 'ἄνακτι', 'tb_pos': 'n-s---md-', 'spacy_pos': 'ADJ'}, {'word': 'Χρύσην', 'tb_pos': 'n-s---fa-', 'spacy_pos': 'ADJ'}, {'word': 'τε', 'tb_pos': 'g--------', 'spacy_pos': 'CCONJ'}, {'word': 'τε', 'tb_pos': 'g--------', 'spacy_pos': 'CCONJ'}, {'word': 'εἴ', 'tb_pos': 'c--------', 'spacy_pos': 'SCONJ'}, {'word': 'ποτέ', 'tb_pos': 'g--------', 'spacy_pos': 'ADV'}, {'word': 'εἰ', 'tb_pos': 'c--------', 'spacy_pos': 'SCONJ'}, {'word': 'δή', 'tb_pos': 'g--------', 'spacy_pos': 'ADV'}, {'word': 'ποτέ', 'tb_pos': 'g--------', 'spacy_pos': 'ADV'}, {'word': 'τὸ', 'tb_pos': 'p-s---na-', 'spacy_pos': 'DET'}, {'word': 'δέ', 'tb_pos': 'g--------', 'spacy_pos': 'ADV'}, {'word': 'κρήηνον', 'tb_pos': 'v2sama---', 'spacy_pos': 'NOUN'}, {'word': 'δ̓', 'tb_pos': 'g--------', 'spacy_pos': 'ADV'}, {'word': 'δὲ', 'tb_pos': 'g--------', 'spacy_pos': 'ADV'}, {'word': 'τόξ̓', 'tb_pos': 'n-p---na-', 'spacy_pos': 'ADV'}, {'word': 'τε', 'tb_pos': 'g--------', 'spacy_pos': 'CCONJ'}, {'word': 'δ̓', 'tb_pos': 'g--------', 'spacy_pos': 'ADV'}, {'word': 'ἄῤ', 'tb_pos': 'g--------', 'spacy_pos': 'ADV'}, {'word': 'αὐτοῦ', 'tb_pos': 'a-s---mg-', 'spacy_pos': 'PRON'}, {'word': 'δ̓', 'tb_pos': 'g--------', 'spacy_pos': 'ADV'}, {'word': 'μετὰ', 'tb_pos': 'r--------', 'spacy_pos': 'ADV'}, {'word': 'δ̓', 'tb_pos': 'g--------', 'spacy_pos': 'ADV'}, {'word': 'ἰὸν', 'tb_pos': 'n-s---ma-', 'spacy_pos': 'VERB'}, {'word': 'δὲ', 'tb_pos': 'g--------', 'spacy_pos': 'ADV'}, {'word': 'μὲν', 'tb_pos': 'g--------', 'spacy_pos': 'ADV'}, {'word': 'αὐτὰρ', 'tb_pos': 'c--------', 'spacy_pos': 'ADV'}, {'word': 'αὐτοῖσι', 'tb_pos': 'a-p---md-', 'spacy_pos': 'PRON'}, {'word': 'δὲ', 'tb_pos': 'g--------', 'spacy_pos': 'ADV'}, {'word': 'ἐννῆμαρ', 'tb_pos': 'd--------', 'spacy_pos': 'PROPN'}, {'word': 'μὲν', 'tb_pos': 'g--------', 'spacy_pos': 'ADV'}, {'word': 'κῆλα', 'tb_pos': 'n-p---nn-', 'spacy_pos': 'ADJ'}, {'word': 'δ̓', 'tb_pos': 'g--------', 'spacy_pos': 'ADV'}, {'word': 'δὲ', 'tb_pos': 'g--------', 'spacy_pos': 'ADV'}, {'word': 'γὰρ', 'tb_pos': 'g--------', 'spacy_pos': 'ADV'}, {'word': '[0]', 'tb_pos': None, 'spacy_pos': 'PUNCT'}, {'word': 'γὰρ', 'tb_pos': 'g--------', 'spacy_pos': 'ADV'}, {'word': 'ὅτι', 'tb_pos': 'c--------', 'spacy_pos': 'SCONJ'}, {'word': 'ῥα', 'tb_pos': 'g--------', 'spacy_pos': 'ADV'}, {'word': 'δ̓', 'tb_pos': 'g--------', 'spacy_pos': 'ADV'}, {'word': 'ἐπεὶ', 'tb_pos': 'c--------', 'spacy_pos': 'ADV'}, {'word': 'οὖν', 'tb_pos': 'g--------', 'spacy_pos': 'ADV'}, {'word': 'τε', 'tb_pos': 'g--------', 'spacy_pos': 'CCONJ'}, {'word': 'δ̓', 'tb_pos': 'g--------', 'spacy_pos': 'ADV'}, {'word': 'εἴ', 'tb_pos': 'c--------', 'spacy_pos': 'SCONJ'}, {'word': 'κεν', 'tb_pos': 'g--------', 'spacy_pos': 'ADV'}, {'word': 'γε', 'tb_pos': 'g--------', 'spacy_pos': 'ADV'}, {'word': 'εἰ', 'tb_pos': 'c--------', 'spacy_pos': 'SCONJ'}, {'word': 'δὴ', 'tb_pos': 'g--------', 'spacy_pos': 'ADV'}, {'word': 'τε', 'tb_pos': 'g--------', 'spacy_pos': 'CCONJ'}, {'word': 'ἀλλ̓', 'tb_pos': 'd--------', 'spacy_pos': 'CCONJ'}, {'word': 'δή', 'tb_pos': 'g--------', 'spacy_pos': 'ADV'}, {'word': 'τινα', 'tb_pos': 'p-s---ma-', 'spacy_pos': 'DET'}, {'word': 'καὶ', 'tb_pos': 'd--------', 'spacy_pos': 'CCONJ'}, {'word': 'γάρ', 'tb_pos': 'g--------', 'spacy_pos': 'ADV'}, {'word': 'τ̓', 'tb_pos': 'g--------', 'spacy_pos': 'ADV'}, {'word': 'ἐστιν', 'tb_pos': 'v3spia---', 'spacy_pos': 'AUX'}, {'word': 'κ̓', 'tb_pos': 'g--------', 'spacy_pos': 'ADV'}, {'word': 'τι', 'tb_pos': 'p-s---na-', 'spacy_pos': 'DET'}, {'word': 'εἴτ̓', 'tb_pos': 'd--------', 'spacy_pos': 'SCONJ'}, {'word': 'ἄῤ', 'tb_pos': 'g--------', 'spacy_pos': 'ADV'}, {'word': 'γ̓', 'tb_pos': 'g--------', 'spacy_pos': 'ADV'}, {'word': 'αἴ', 'tb_pos': 'c--------', 'spacy_pos': 'ADV'}, {'word': 'κέν', 'tb_pos': 'g--------', 'spacy_pos': 'ADV'}, {'word': 'πως', 'tb_pos': 'g--------', 'spacy_pos': 'ADV'}, {'word': 'κνίσης', 'tb_pos': 'n-s---fg-', 'spacy_pos': 'VERB'}, {'word': 'τε', 'tb_pos': 'g--------', 'spacy_pos': 'CCONJ'}, {'word': 'ἤτοι', 'tb_pos': 'g--------', 'spacy_pos': 'ADV'}, {'word': 'ὅ', 'tb_pos': 'p-s---mn-', 'spacy_pos': 'DET'}, {'word': 'γ̓', 'tb_pos': 'g--------', 'spacy_pos': 'ADV'}, {'word': 'κατ̓', 'tb_pos': 'r--------', 'spacy_pos': 'ADV'}, {'word': 'ἄῤ', 'tb_pos': 'g--------', 'spacy_pos': 'ADV'}, {'word': 'δ̓', 'tb_pos': 'g--------', 'spacy_pos': 'ADV'}, {'word': 'ὄχ̓', 'tb_pos': 'd--------', 'spacy_pos': 'NOUN'}, {'word': 'ᾔδη', 'tb_pos': 'v3slia---', 'spacy_pos': 'ADV'}, {'word': 'τά', 'tb_pos': 'p-p---na-', 'spacy_pos': 'DET'}, {'word': 'τ̓', 'tb_pos': 'g--------', 'spacy_pos': 'ADV'}, {'word': 'ἐόντα', 'tb_pos': 'v-pppana-', 'spacy_pos': 'AUX'}, {'word': 'τά', 'tb_pos': 'p-p---na-', 'spacy_pos': 'DET'}, {'word': 'τ̓', 'tb_pos': 'g--------', 'spacy_pos': 'ADV'}, {'word': 'τ̓', 'tb_pos': 'g--------', 'spacy_pos': 'ADV'}, {'word': 'ἐόντα', 'tb_pos': 'v-pppana-', 'spacy_pos': 'AUX'}, {'word': 'καὶ', 'tb_pos': 'c--------', 'spacy_pos': 'ADV'}, {'word': 'εἴσω', 'tb_pos': 'r--------', 'spacy_pos': 'ADV'}, {'word': 'ἣν', 'tb_pos': 'a-s---fa-', 'spacy_pos': 'AUX'}, {'word': 'φίλε', 'tb_pos': 'a-s---mv-', 'spacy_pos': 'NOUN'}, {'word': '[0]', 'tb_pos': None, 'spacy_pos': 'PUNCT'}, {'word': '[1]', 'tb_pos': None, 'spacy_pos': 'NOUN'}, {'word': 'γὰρ', 'tb_pos': 'g--------', 'spacy_pos': 'ADV'}, {'word': 'δὲ', 'tb_pos': 'g--------', 'spacy_pos': 'ADV'}, {'word': 'ὄμοσσον', 'tb_pos': 'v2sama---', 'spacy_pos': 'ADJ'}, {'word': 'ἦ', 'tb_pos': 'd--------', 'spacy_pos': 'DET'}, {'word': 'μέν', 'tb_pos': 'g--------', 'spacy_pos': 'ADV'}, {'word': 'ἦ', 'tb_pos': 'd--------', 'spacy_pos': 'CCONJ'}, {'word': 'γὰρ', 'tb_pos': 'g--------', 'spacy_pos': 'ADV'}, {'word': 'πάντων', 'tb_pos': 'a-p---mg-', 'spacy_pos': 'DET'}, {'word': 'γὰρ', 'tb_pos': 'g--------', 'spacy_pos': 'ADV'}, {'word': 'ὅτε', 'tb_pos': 'c--------', 'spacy_pos': 'ADV'}, {'word': 'χέρηϊ', 'tb_pos': 'a-s---md-', 'spacy_pos': 'NOUN'}, {'word': '[0]', 'tb_pos': None, 'spacy_pos': 'PUNCT'}, {'word': 'εἴ', 'tb_pos': 'c--------', 'spacy_pos': 'SCONJ'}, {'word': 'περ', 'tb_pos': 'g--------', 'spacy_pos': 'ADV'}, {'word': 'γάρ', 'tb_pos': 'g--------', 'spacy_pos': 'ADV'}, {'word': 'τε', 'tb_pos': 'g--------', 'spacy_pos': 'CCONJ'}, {'word': 'γε', 'tb_pos': 'g--------', 'spacy_pos': 'ADV'}, {'word': 'καὶ', 'tb_pos': 'd--------', 'spacy_pos': 'CCONJ'}, {'word': 'ἀλλά', 'tb_pos': 'd--------', 'spacy_pos': 'ADJ'}, {'word': 'τε', 'tb_pos': 'g--------', 'spacy_pos': 'CCONJ'}, {'word': 'καὶ', 'tb_pos': 'd--------', 'spacy_pos': 'CCONJ'}, {'word': 'ὄφρα', 'tb_pos': 'c--------', 'spacy_pos': 'SCONJ'}, {'word': 'δὲ', 'tb_pos': 'g--------', 'spacy_pos': 'ADV'}, {'word': 'εἴ', 'tb_pos': 'c--------', 'spacy_pos': 'SCONJ'}, {'word': 'δ̓', 'tb_pos': 'g--------', 'spacy_pos': 'ADV'}, {'word': 'τι', 'tb_pos': 'p-s---na-', 'spacy_pos': 'DET'}, {'word': 'μὰ', 'tb_pos': 'g--------', 'spacy_pos': 'ADV'}, {'word': 'γὰρ', 'tb_pos': 'g--------', 'spacy_pos': 'ADV'}, {'word': 'τε', 'tb_pos': 'g--------', 'spacy_pos': 'CCONJ'}, {'word': 'τις', 'tb_pos': 'p-s---mn-', 'spacy_pos': 'ADJ'}, {'word': 'δ̓', 'tb_pos': 'g--------', 'spacy_pos': 'ADV'}, {'word': 'ἢν', 'tb_pos': 'c--------', 'spacy_pos': 'SCONJ'}, {'word': 'εἶναι', 'tb_pos': 'v--pna---', 'spacy_pos': 'AUX'}, {'word': 'καὶ', 'tb_pos': 'd--------', 'spacy_pos': 'CCONJ'}, {'word': 'δὴ', 'tb_pos': 'g--------', 'spacy_pos': 'ADV'}, {'word': 'τ̓', 'tb_pos': 'g--------', 'spacy_pos': 'ADV'}, {'word': 'ἄρ', 'tb_pos': 'g--------', 'spacy_pos': 'ADV'}, {'word': 'ὅ', 'tb_pos': 'p-s---mn-', 'spacy_pos': 'DET'}, {'word': 'γ̓', 'tb_pos': 'g--------', 'spacy_pos': 'ADV'}, {'word': 'δ̓', 'tb_pos': 'g--------', 'spacy_pos': 'ADV'}, {'word': 'δ̓', 'tb_pos': 'g--------', 'spacy_pos': 'ADV'}, {'word': 'ἄῤ', 'tb_pos': 'g--------', 'spacy_pos': 'ADV'}, {'word': 'ἄλγἐ', 'tb_pos': 'n-p---na-', 'spacy_pos': 'VERB'}, {'word': 'ἠδ̓', 'tb_pos': 'c--------', 'spacy_pos': 'ADV'}, {'word': 'δ̓', 'tb_pos': 'g--------', 'spacy_pos': 'ADV'}, {'word': 'ὅ', 'tb_pos': 'p-s---mn-', 'spacy_pos': 'DET'}, {'word': 'γε', 'tb_pos': 'g--------', 'spacy_pos': 'ADV'}, {'word': 'πρίν', 'tb_pos': 'c--------', 'spacy_pos': 'SCONJ'}, {'word': 'γ̓', 'tb_pos': 'g--------', 'spacy_pos': 'ADV'}, {'word': 'ἀπὸ', 'tb_pos': 'r--------', 'spacy_pos': 'ADV'}, {'word': 'ἑλικώπιδα', 'tb_pos': 'a-s---fa-', 'spacy_pos': 'PROPN'}, {'word': 'ἀπριάτην', 'tb_pos': 'a-s---fa-', 'spacy_pos': 'PROPN'}, {'word': 'θ̓', 'tb_pos': 'g--------', 'spacy_pos': 'ADV'}, {'word': 'Χρύσην', 'tb_pos': 'n-s---fa-', 'spacy_pos': 'ADJ'}, {'word': '[0]', 'tb_pos': None, 'spacy_pos': 'PUNCT'}, {'word': 'κέν', 'tb_pos': 'g--------', 'spacy_pos': 'ADV'}, {'word': 'ἤτοι', 'tb_pos': 'g--------', 'spacy_pos': 'ADV'}, {'word': 'ὅ', 'tb_pos': 'p-s---mn-', 'spacy_pos': 'DET'}, {'word': 'γ̓', 'tb_pos': 'g--------', 'spacy_pos': 'ADV'}, {'word': 'κατ̓', 'tb_pos': 'r--------', 'spacy_pos': 'ADV'}, {'word': 'ἄῤ', 'tb_pos': 'g--------', 'spacy_pos': 'ADV'}, {'word': 'δ̓', 'tb_pos': 'g--------', 'spacy_pos': 'ADV'}, {'word': 'ἀνέστη', 'tb_pos': 'v3saia---', 'spacy_pos': 'ADV'}, {'word': 'δὲ', 'tb_pos': 'g--------', 'spacy_pos': 'ADV'}, {'word': 'δέ', 'tb_pos': 'g--------', 'spacy_pos': 'ADV'}, {'word': 'πώ', 'tb_pos': 'g--------', 'spacy_pos': 'ADV'}, {'word': 'ποτέ', 'tb_pos': 'g--------', 'spacy_pos': 'ADV'}, {'word': 'τὰ', 'tb_pos': 'l-p---nn-', 'spacy_pos': 'PRON'}, {'word': 'ἐστὶ', 'tb_pos': 'v3spia---', 'spacy_pos': 'AUX'}, {'word': 'δ̓', 'tb_pos': 'g--------', 'spacy_pos': 'ADV'}, {'word': 'οὔτέ', 'tb_pos': 'd--------', 'spacy_pos': 'CCONJ'}, {'word': 'τί', 'tb_pos': 'p-s---na-', 'spacy_pos': 'DET'}, {'word': 'πω', 'tb_pos': 'g--------', 'spacy_pos': 'ADV'}, {'word': 'τ̓', 'tb_pos': 'g--------', 'spacy_pos': 'CCONJ'}, {'word': 'ὡς', 'tb_pos': 'c--------', 'spacy_pos': 'SCONJ'}, {'word': 'δὴ', 'tb_pos': 'g--------', 'spacy_pos': 'ADV'}, {'word': 'τοῦδ̓', 'tb_pos': 'p-s---ng-', 'spacy_pos': 'ADJ'}, {'word': 'Χρυσηΐδος', 'tb_pos': 'n-s---fg-', 'spacy_pos': 'ADJ'}, {'word': 'ἐπεὶ', 'tb_pos': 'c--------', 'spacy_pos': 'SCONJ'}, {'word': 'αὐτὴν', 'tb_pos': 'a-s---fa-', 'spacy_pos': 'PRON'}, {'word': 'γάρ', 'tb_pos': 'g--------', 'spacy_pos': 'ADV'}, {'word': 'ῥα', 'tb_pos': 'g--------', 'spacy_pos': 'ADV'}, {'word': 'ἐπεὶ', 'tb_pos': 'c--------', 'spacy_pos': 'SCONJ'}, {'word': 'ἑθέν', 'tb_pos': 'p-s---fg-', 'spacy_pos': 'ADV'}, {'word': 'ἐστι', 'tb_pos': 'v3spia---', 'spacy_pos': 'AUX'}, {'word': 'χερείων', 'tb_pos': 'n-s---fn-', 'spacy_pos': 'ADJ'}, {'word': 'οὐ', 'tb_pos': 'g--------', 'spacy_pos': 'ADV'}, {'word': 'δὲ', 'tb_pos': 'g--------', 'spacy_pos': 'ADV'}, {'word': 'τ̓', 'tb_pos': 'g--------', 'spacy_pos': 'ADV'}, {'word': 'ἂρ', 'tb_pos': 'g--------', 'spacy_pos': 'ADV'}, {'word': 'οὔτέ', 'tb_pos': 'd--------', 'spacy_pos': 'CCONJ'}, {'word': 'τι', 'tb_pos': 'p-s---na-', 'spacy_pos': 'DET'}, {'word': '[0]', 'tb_pos': None, 'spacy_pos': 'PUNCT'}, {'word': 'ἀλλὰ', 'tb_pos': 'd--------', 'spacy_pos': 'CCONJ'}, {'word': 'εἰ', 'tb_pos': 'c--------', 'spacy_pos': 'SCONJ'}, {'word': 'τό', 'tb_pos': 'p-s---nn-', 'spacy_pos': 'DET'}, {'word': 'γ̓', 'tb_pos': 'g--------', 'spacy_pos': 'ADV'}, {'word': '[0]', 'tb_pos': None, 'spacy_pos': 'PUNCT'}, {'word': 'αὐτὰρ', 'tb_pos': 'g--------', 'spacy_pos': 'ADV'}, {'word': 'ὄφρα', 'tb_pos': 'c--------', 'spacy_pos': 'SCONJ'}, {'word': 'μὴ', 'tb_pos': 'g--------', 'spacy_pos': 'ADV'}, {'word': 'ἔω', 'tb_pos': 'v1spsa---', 'spacy_pos': 'AUX'}, {'word': 'ἐπεὶ', 'tb_pos': 'c--------', 'spacy_pos': 'ADV'}, {'word': 'δὲ', 'tb_pos': 'g--------', 'spacy_pos': 'ADV'}, {'word': 'γὰρ', 'tb_pos': 'g--------', 'spacy_pos': 'ADV'}, {'word': 'τό', 'tb_pos': 'p-s---na-', 'spacy_pos': 'DET'}, {'word': 'γε', 'tb_pos': 'g--------', 'spacy_pos': 'ADV'}, {'word': 'ἄλλῃ', 'tb_pos': 'd--------', 'spacy_pos': 'ADJ'}, {'word': '[0]', 'tb_pos': None, 'spacy_pos': 'PUNCT'}, {'word': 'δ̓', 'tb_pos': 'g--------', 'spacy_pos': 'ADV'}, {'word': 'ποδάρκης', 'tb_pos': 'a-s---mn-', 'spacy_pos': 'PROPN'}, {'word': 'δῖος', 'tb_pos': 'a-s---mn-', 'spacy_pos': 'PROPN'}, {'word': 'γάρ', 'tb_pos': 'g--------', 'spacy_pos': 'ADV'}, {'word': 'δέ', 'tb_pos': 'g--------', 'spacy_pos': 'ADV'}, {'word': 'τί', 'tb_pos': 'p-s---na-', 'spacy_pos': 'DET'}, {'word': 'ἀλλὰ', 'tb_pos': 'd--------', 'spacy_pos': 'CCONJ'}, {'word': 'μὲν', 'tb_pos': 'g--------', 'spacy_pos': 'ADV'}, {'word': 'δ̓', 'tb_pos': 'g--------', 'spacy_pos': 'ADV'}, {'word': 'ἀλλὰ', 'tb_pos': 'd--------', 'spacy_pos': 'CCONJ'}, {'word': 'μὲν', 'tb_pos': 'g--------', 'spacy_pos': 'ADV'}, {'word': 'τήνδε', 'tb_pos': 'p-s---fa-', 'spacy_pos': 'ADJ'}, {'word': 'αὐτὰρ', 'tb_pos': 'g--------', 'spacy_pos': 'ADV'}, {'word': 'τ̓', 'tb_pos': 'g--------', 'spacy_pos': 'ADV'}, {'word': 'αἴ', 'tb_pos': 'c--------', 'spacy_pos': 'ADV'}, {'word': 'κέ', 'tb_pos': 'g--------', 'spacy_pos': 'ADV'}, {'word': 'δ̓', 'tb_pos': 'g--------', 'spacy_pos': 'ADV'}, {'word': 'κρείων', 'tb_pos': 'n-s---mn-', 'spacy_pos': 'ADJ'}, {'word': 'μὴ', 'tb_pos': 'g--------', 'spacy_pos': 'ADV'}, {'word': 'δ̓', 'tb_pos': 'g--------', 'spacy_pos': 'ADV'}, {'word': 'περ', 'tb_pos': 'g--------', 'spacy_pos': 'ADV'}, {'word': 'ἐὼν', 'tb_pos': 'v-sppamn-', 'spacy_pos': 'AUX'}, {'word': 'ἐπεὶ', 'tb_pos': 'c--------', 'spacy_pos': 'SCONJ'}, {'word': 'δέ', 'tb_pos': 'g--------', 'spacy_pos': 'ADV'}, {'word': 'ἦ', 'tb_pos': 'd--------', 'spacy_pos': 'CCONJ'}, {'word': 'ὄφῤ', 'tb_pos': 'c--------', 'spacy_pos': 'SCONJ'}, {'word': 'αὐτὰρ', 'tb_pos': 'g--------', 'spacy_pos': 'ADV'}, {'word': 'ἧσθαι', 'tb_pos': 'v--rne---', 'spacy_pos': 'AUX'}, {'word': 'δέ', 'tb_pos': 'g--------', 'spacy_pos': 'ADV'}, {'word': 'τήνδ̓', 'tb_pos': 'p-s---fa-', 'spacy_pos': 'DET'}, {'word': 'ἀλλ̓', 'tb_pos': 'd--------', 'spacy_pos': 'CCONJ'}, {'word': 'εἰ', 'tb_pos': 'c--------', 'spacy_pos': 'SCONJ'}, {'word': 'μὲν', 'tb_pos': 'g--------', 'spacy_pos': 'ADV'}, {'word': 'ὅπως', 'tb_pos': 'c--------', 'spacy_pos': 'SCONJ'}, {'word': 'ἔσται', 'tb_pos': 'v3sfim---', 'spacy_pos': 'AUX'}, {'word': '[0]', 'tb_pos': None, 'spacy_pos': 'PUNCT'}, {'word': 'εἰ', 'tb_pos': 'c--------', 'spacy_pos': 'SCONJ'}, {'word': 'δέ', 'tb_pos': 'g--------', 'spacy_pos': 'ADV'}, {'word': 'κε', 'tb_pos': 'g--------', 'spacy_pos': 'ADV'}, {'word': 'μὴ', 'tb_pos': 'g--------', 'spacy_pos': 'ADV'}, {'word': 'δέ', 'tb_pos': 'g--------', 'spacy_pos': 'ADV'}, {'word': 'κεν', 'tb_pos': 'g--------', 'spacy_pos': 'ADV'}, {'word': '[0]', 'tb_pos': None, 'spacy_pos': 'PUNCT'}, {'word': 'δέ', 'tb_pos': 'g--------', 'spacy_pos': 'ADV'}, {'word': 'κεν', 'tb_pos': 'g--------', 'spacy_pos': 'ADV'}, {'word': 'κεν', 'tb_pos': 'g--------', 'spacy_pos': 'ADV'}, {'word': 'ἀλλ̓', 'tb_pos': 'd--------', 'spacy_pos': 'CCONJ'}, {'word': 'ἤτοι', 'tb_pos': 'g--------', 'spacy_pos': 'ADV'}, {'word': 'μὲν', 'tb_pos': 'g--------', 'spacy_pos': 'ADV'}, {'word': 'καὶ', 'tb_pos': 'd--------', 'spacy_pos': 'CCONJ'}, {'word': 'δ̓', 'tb_pos': 'g--------', 'spacy_pos': 'ADV'}, {'word': 'ἄγε', 'tb_pos': 'd--------', 'spacy_pos': 'VERB'}, {'word': 'ἐν', 'tb_pos': 'r--------', 'spacy_pos': 'ADV'}, {'word': 'δ̓', 'tb_pos': 'g--------', 'spacy_pos': 'ADV'}, {'word': 'δ̓', 'tb_pos': 'g--------', 'spacy_pos': 'ADV'}, {'word': 'ἂν', 'tb_pos': 'r--------', 'spacy_pos': 'ADV'}, {'word': 'δ̓', 'tb_pos': 'g--------', 'spacy_pos': 'ADV'}, {'word': 'αὐτὴν', 'tb_pos': 'a-s---fa-', 'spacy_pos': 'DET'}, {'word': 'εἷς', 'tb_pos': 'a-s---mn-', 'spacy_pos': 'NUM'}, {'word': 'δέ', 'tb_pos': 'g--------', 'spacy_pos': 'ADV'}, {'word': 'τις', 'tb_pos': 'p-s---mn-', 'spacy_pos': 'DET'}, {'word': 'ἔστω', 'tb_pos': 'v3spma---', 'spacy_pos': 'AUX'}, {'word': 'δῖος', 'tb_pos': 'a-s---mn-', 'spacy_pos': 'PROPN'}, {'word': 'πάντων', 'tb_pos': 'a-p---mg-', 'spacy_pos': 'DET'}, {'word': 'ὄφῤ', 'tb_pos': 'c--------', 'spacy_pos': 'SCONJ'}, {'word': 'ἱερὰ', 'tb_pos': 'n-p---na-', 'spacy_pos': 'ADJ'}, {'word': 'δ̓', 'tb_pos': 'g--------', 'spacy_pos': 'ADV'}, {'word': 'ἄῤ', 'tb_pos': 'g--------', 'spacy_pos': 'ADV'}, {'word': 'ὑπόδρα', 'tb_pos': 'd--------', 'spacy_pos': 'ADJ'}, {'word': 'τίς', 'tb_pos': 'p-s---mn-', 'spacy_pos': 'ADJ'}, {'word': 'γὰρ', 'tb_pos': 'g--------', 'spacy_pos': 'ADV'}, {'word': 'ἐπεὶ', 'tb_pos': 'c--------', 'spacy_pos': 'SCONJ'}, {'word': 'τί', 'tb_pos': 'p-s---na-', 'spacy_pos': 'ADJ'}, {'word': 'εἰσιν', 'tb_pos': 'v3ppia---', 'spacy_pos': 'AUX'}, {'word': 'γὰρ', 'tb_pos': 'g--------', 'spacy_pos': 'ADV'}, {'word': 'ἐμὰς', 'tb_pos': 'a-p---fa-', 'spacy_pos': 'PRON'}, {'word': 'δὲ', 'tb_pos': 'g--------', 'spacy_pos': 'ADV'}, {'word': 'μὲν', 'tb_pos': 'g--------', 'spacy_pos': 'ADV'}, {'word': 'δέ', 'tb_pos': 'g--------', 'spacy_pos': 'ADV'}, {'word': 'ποτ̓', 'tb_pos': 'g--------', 'spacy_pos': 'ADV'}, {'word': 'Φθίῃ', 'tb_pos': '---------', 'spacy_pos': 'NOUN'}, {'word': 'ἐπεὶ', 'tb_pos': 'c--------', 'spacy_pos': 'ADV'}, {'word': 'ἦ', 'tb_pos': 'd--------', 'spacy_pos': 'CCONJ'}, {'word': 'τε', 'tb_pos': 'g--------', 'spacy_pos': 'CCONJ'}, {'word': 'τε', 'tb_pos': 'g--------', 'spacy_pos': 'CCONJ'}, {'word': '[0]', 'tb_pos': None, 'spacy_pos': 'PUNCT'}, {'word': '[1]', 'tb_pos': None, 'spacy_pos': 'ADV'}, {'word': '[3]', 'tb_pos': None, 'spacy_pos': 'ADV'}, {'word': '[2]', 'tb_pos': None, 'spacy_pos': 'PUNCT'}, {'word': 'ἀλλὰ', 'tb_pos': 'd--------', 'spacy_pos': 'CCONJ'}, {'word': 'ὄφρα', 'tb_pos': 'c--------', 'spacy_pos': 'SCONJ'}, {'word': 'τε', 'tb_pos': 'g--------', 'spacy_pos': 'CCONJ'}, {'word': 'τι', 'tb_pos': 'p-s---na-', 'spacy_pos': 'ADJ'}, {'word': 'δ̓', 'tb_pos': 'g--------', 'spacy_pos': 'ADV'}, {'word': 'καὶ', 'tb_pos': 'd--------', 'spacy_pos': 'CCONJ'}, {'word': 'δή', 'tb_pos': 'g--------', 'spacy_pos': 'ADV'}, {'word': 'ᾧ', 'tb_pos': 'p-s---nd-', 'spacy_pos': 'INTJ'}, {'word': 'δέ', 'tb_pos': 'g--------', 'spacy_pos': 'ADV'}, {'word': 'μὲν', 'tb_pos': 'g--------', 'spacy_pos': 'ADV'}, {'word': 'ποτε', 'tb_pos': 'g--------', 'spacy_pos': 'ADV'}, {'word': 'ὁππότ̓', 'tb_pos': 'd--------', 'spacy_pos': 'SCONJ'}, {'word': 'ἀλλὰ', 'tb_pos': 'd--------', 'spacy_pos': 'CCONJ'}, {'word': 'τὸ', 'tb_pos': 'p-s---na-', 'spacy_pos': 'DET'}, {'word': 'μὲν', 'tb_pos': 'g--------', 'spacy_pos': 'ADV'}, {'word': 'πολυάϊκος', 'tb_pos': '---------', 'spacy_pos': 'ADJ'}, {'word': 'ἀτὰρ', 'tb_pos': 'g--------', 'spacy_pos': 'ADV'}, {'word': 'ἤν', 'tb_pos': 'c--------', 'spacy_pos': 'SCONJ'}, {'word': 'ποτε', 'tb_pos': 'g--------', 'spacy_pos': 'ADV'}, {'word': 'δ̓', 'tb_pos': 'g--------', 'spacy_pos': 'ADV'}, {'word': 'τε', 'tb_pos': 'g--------', 'spacy_pos': 'CCONJ'}, {'word': 'τε', 'tb_pos': 'g--------', 'spacy_pos': 'CCONJ'}, {'word': 'ἐπεί', 'tb_pos': 'c--------', 'spacy_pos': 'SCONJ'}, {'word': 'κε', 'tb_pos': 'g--------', 'spacy_pos': 'ADV'}, {'word': '[0]', 'tb_pos': None, 'spacy_pos': 'PUNCT'}, {'word': '[1]', 'tb_pos': None, 'spacy_pos': 'ADV'}, {'word': 'δ̓', 'tb_pos': 'g--------', 'spacy_pos': 'ADV'}, {'word': 'εἶμι', 'tb_pos': 'v1spia---', 'spacy_pos': 'AUX'}, {'word': 'Φθίην', 'tb_pos': '---------', 'spacy_pos': 'NOUN'}, {'word': 'δ̓', 'tb_pos': 'g--------', 'spacy_pos': 'ADV'}, {'word': 'ἐπεὶ', 'tb_pos': 'c--------', 'spacy_pos': 'SCONJ'}, {'word': 'ἦ', 'tb_pos': 'd--------', 'spacy_pos': 'CCONJ'}, {'word': 'ἐστιν', 'tb_pos': 'v3spia---', 'spacy_pos': 'AUX'}, {'word': 'δέ', 'tb_pos': 'g--------', 'spacy_pos': 'ADV'}, {'word': 'ἐὼν', 'tb_pos': 'v-sppamn-', 'spacy_pos': 'AUX'}, {'word': 'δ̓', 'tb_pos': 'g--------', 'spacy_pos': 'ADV'}, {'word': 'εἴ', 'tb_pos': 'c--------', 'spacy_pos': 'SCONJ'}, {'word': 'δέ', 'tb_pos': 'g--------', 'spacy_pos': 'ADV'}, {'word': 'σ̓', 'tb_pos': 'p-s----a-', 'spacy_pos': 'ADV'}, {'word': 'πάῤ', 'tb_pos': 'v3ppia---', 'spacy_pos': 'ADP'}, {'word': 'καὶ', 'tb_pos': 'd--------', 'spacy_pos': 'CCONJ'}, {'word': 'κέ', 'tb_pos': 'g--------', 'spacy_pos': 'ADV'}, {'word': 'δὲ', 'tb_pos': 'g--------', 'spacy_pos': 'ADV'}, {'word': '[0]', 'tb_pos': None, 'spacy_pos': 'PUNCT'}, {'word': '[1]', 'tb_pos': None, 'spacy_pos': 'ADV'}, {'word': 'δέ', 'tb_pos': 'g--------', 'spacy_pos': 'ADV'}, {'word': 'ἐσσι', 'tb_pos': 'v2spia---', 'spacy_pos': 'AUX'}, {'word': 'γάρ', 'tb_pos': 'g--------', 'spacy_pos': 'ADV'}, {'word': 'τε', 'tb_pos': 'g--------', 'spacy_pos': 'CCONJ'}, {'word': 'τε', 'tb_pos': 'g--------', 'spacy_pos': 'CCONJ'}, {'word': 'τε', 'tb_pos': 'g--------', 'spacy_pos': 'CCONJ'}, {'word': '[0]', 'tb_pos': None, 'spacy_pos': 'PUNCT'}, {'word': 'εἰ', 'tb_pos': 'c--------', 'spacy_pos': 'SCONJ'}, {'word': 'ἐσσι', 'tb_pos': 'v2spia---', 'spacy_pos': 'AUX'}, {'word': 'τό', 'tb_pos': 'p-s---na-', 'spacy_pos': 'DET'}, {'word': 'γ̓', 'tb_pos': 'g--------', 'spacy_pos': 'ADV'}, {'word': 'τε', 'tb_pos': 'g--------', 'spacy_pos': 'CCONJ'}, {'word': 'δ̓', 'tb_pos': 'g--------', 'spacy_pos': 'ADV'}, {'word': 'δ̓', 'tb_pos': 'g--------', 'spacy_pos': 'ADV'}, {'word': 'δέ', 'tb_pos': 'g--------', 'spacy_pos': 'ADV'}, {'word': 'μὲν', 'tb_pos': 'g--------', 'spacy_pos': 'ADV'}, {'word': 'τ̓', 'tb_pos': 'g--------', 'spacy_pos': 'CCONJ'}, {'word': 'δέ', 'tb_pos': 'g--------', 'spacy_pos': 'ADV'}, {'word': 'κ̓', 'tb_pos': 'g--------', 'spacy_pos': 'ADV'}, {'word': 'δὲ', 'tb_pos': 'g--------', 'spacy_pos': 'ADV'}, {'word': 'ὄφῤ', 'tb_pos': 'c--------', 'spacy_pos': 'SCONJ'}, {'word': 'ὅσσον', 'tb_pos': 'a-s---na-', 'spacy_pos': 'PRON'}, {'word': 'εἰμι', 'tb_pos': 'v1spia---', 'spacy_pos': 'AUX'}, {'word': 'δὲ', 'tb_pos': 'g--------', 'spacy_pos': 'ADV'}, {'word': 'ἄντην', 'tb_pos': 'd--------', 'spacy_pos': 'NOUN'}, {'word': '[0]', 'tb_pos': None, 'spacy_pos': 'PUNCT'}, {'word': '[1]', 'tb_pos': None, 'spacy_pos': 'ADV'}, {'word': 'δ̓', 'tb_pos': 'g--------', 'spacy_pos': 'ADV'}, {'word': 'δέ', 'tb_pos': 'g--------', 'spacy_pos': 'ADV'}, {'word': 'διάνδιχα', 'tb_pos': 'd--------', 'spacy_pos': 'ADJ'}, {'word': 'γε', 'tb_pos': 'g--------', 'spacy_pos': 'ADV'}, {'word': 'μὲν', 'tb_pos': 'g--------', 'spacy_pos': 'ADV'}, {'word': 'δ̓', 'tb_pos': 'g--------', 'spacy_pos': 'ADV'}, {'word': 'τε', 'tb_pos': 'g--------', 'spacy_pos': 'CCONJ'}, {'word': 'ἧος', 'tb_pos': 'c--------', 'spacy_pos': 'NOUN'}, {'word': 'ὃ', 'tb_pos': 'p-s---mn-', 'spacy_pos': 'DET'}, {'word': 'δ̓', 'tb_pos': 'g--------', 'spacy_pos': 'ADV'}, {'word': 'δ̓', 'tb_pos': 'g--------', 'spacy_pos': 'ADV'}, {'word': 'πρὸ', 'tb_pos': 'r--------', 'spacy_pos': 'ADV'}, {'word': 'γὰρ', 'tb_pos': 'g--------', 'spacy_pos': 'ADV'}, {'word': 'τε', 'tb_pos': 'g--------', 'spacy_pos': 'CCONJ'}, {'word': 'τε', 'tb_pos': 'g--------', 'spacy_pos': 'CCONJ'}, {'word': '[0]', 'tb_pos': None, 'spacy_pos': 'PUNCT'}, {'word': 'δ̓', 'tb_pos': 'g--------', 'spacy_pos': 'ADV'}, {'word': 'δὲ', 'tb_pos': 'g--------', 'spacy_pos': 'ADV'}, {'word': 'οἴῳ', 'tb_pos': 'a-s---md-', 'spacy_pos': 'NOUN'}, {'word': 'δ̓', 'tb_pos': 'g--------', 'spacy_pos': 'ADV'}, {'word': 'τις', 'tb_pos': 'p-s---mn-', 'spacy_pos': 'ADJ'}, {'word': 'ὁρᾶτο', 'tb_pos': 'v3siie---', 'spacy_pos': 'ADJ'}]\n"
          ]
        }
      ]
    },
    {
      "cell_type": "code",
      "source": [
        "from collections import Counter\n",
        "\n",
        "filtered_pos_errors = [error for error in all_errors['pos_errors']\n",
        "                       if error['tb_pos'] is not None and\n",
        "                          error['tb_pos'][0] not in ['g', 'd', 'b']]\n",
        "\n",
        "pos_error_counts = Counter([error['tb_pos'][0] for error in filtered_pos_errors])\n",
        "\n",
        "print(pos_error_counts)"
      ],
      "metadata": {
        "colab": {
          "base_uri": "https://localhost:8080/"
        },
        "id": "UZj5i-8i3MvG",
        "outputId": "d849565b-560f-4902-bb67-df3ba416a7fd"
      },
      "execution_count": null,
      "outputs": [
        {
          "output_type": "stream",
          "name": "stdout",
          "text": [
            "Counter({'c': 42, 'p': 32, 'a': 28, 'v': 25, 'n': 15, 'r': 10, '-': 4, 'x': 1, 'l': 1})\n"
          ]
        }
      ]
    },
    {
      "cell_type": "code",
      "source": [
        "import matplotlib.pyplot as plt\n",
        "\n",
        "pos_groups = list(pos_error_counts.keys())\n",
        "errors = list(pos_error_counts.values())\n",
        "\n",
        "plt.figure(figsize=(10, 6))\n",
        "plt.bar(pos_groups, errors, color='skyblue')\n",
        "plt.xlabel('Groupes de POS Tags')\n",
        "plt.ylabel('Nombre d\\'erreurs')\n",
        "plt.title('Erreurs de POS Tagging par CLTK par Groupe de Tags')\n",
        "plt.xticks(rotation=45)\n",
        "plt.show()"
      ],
      "metadata": {
        "colab": {
          "base_uri": "https://localhost:8080/",
          "height": 566
        },
        "id": "BFzMH_297lSf",
        "outputId": "411e6cb2-ff38-4793-af5a-4d71ea2572da"
      },
      "execution_count": null,
      "outputs": [
        {
          "output_type": "display_data",
          "data": {
            "text/plain": [
              "<Figure size 1000x600 with 1 Axes>"
            ],
            "image/png": "[encoded data removed]"
          },
          "metadata": {}
        }
      ]
    },
    {
      "cell_type": "code",
      "source": [
        "def compare_annotations(tb_sentence, bert_data):\n",
        "    annotations = []\n",
        "\n",
        "    bert_tokens = {token['text']: token for token in bert_data['tokens']}\n",
        "\n",
        "    for tb_word in tb_sentence[2]:\n",
        "        tb_text = tb_word['form']\n",
        "        tb_lemma = tb_word['lemma']\n",
        "        tb_pos = tb_word['postag']\n",
        "\n",
        "        bert_token = bert_tokens.get(tb_text)\n",
        "        if bert_token:\n",
        "            bert_text = bert_token['text']\n",
        "            bert_lemma = bert_token['lemma']\n",
        "            bert_pos = bert_token['labels'][0]['value'] if bert_token['labels'] else None\n",
        "\n",
        "            lemma_match = tb_lemma == bert_lemma\n",
        "            pos_match = tb_pos == bert_pos\n",
        "\n",
        "            annotations.append({\n",
        "                'word': tb_text,\n",
        "                'tb_lemma': tb_lemma,\n",
        "                'bert_lemma': bert_lemma,\n",
        "                'lemma_match': lemma_match,\n",
        "                'tb_pos': tb_pos,\n",
        "                'bert_pos': bert_pos,\n",
        "                'pos_match': pos_match\n",
        "            })\n",
        "\n",
        "    return annotations\n"
      ],
      "metadata": {
        "id": "vo7N1GAq7vFU"
      },
      "execution_count": null,
      "outputs": []
    },
    {
      "cell_type": "code",
      "source": [
        "import csv"
      ],
      "metadata": {
        "id": "uu7gqyRMGUtd"
      },
      "execution_count": null,
      "outputs": []
    },
    {
      "cell_type": "code",
      "source": [
        "pos_conversion_spacy_to_tb = {\n",
        "    'NOUN': 'n',\n",
        "    'PROPN': 'n',\n",
        "    'VERB': 'v',\n",
        "    'ADJ': 'a',\n",
        "    'ADV': 'd',\n",
        "    'DET': 'l',\n",
        "    'PART': 'g',\n",
        "    'CCONJ': 'c',\n",
        "    'ADP': 'r',\n",
        "    'PRON': 'p',\n",
        "    'NUM': 'm',\n",
        "    'INTJ': 'i',\n",
        "    'AUX': 'v',\n",
        "    'PUNCT': 'u',\n",
        "}"
      ],
      "metadata": {
        "id": "dZKc3fIqXsRz"
      },
      "execution_count": null,
      "outputs": []
    },
    {
      "cell_type": "code",
      "source": [
        "def compare_global_annotations(tb_sentence, spacy_doc):\n",
        "    annotations = []\n",
        "\n",
        "    for tb_word in tb_sentence[2]:\n",
        "        tb_text = tb_word['form']\n",
        "        tb_lemma = tb_word.get('lemma', '')\n",
        "        tb_pos_short = tb_word['postag'][0] if tb_word['postag'] else None\n",
        "\n",
        "        spacy_token = next((token for token in spacy_doc if token.text == tb_text), None)\n",
        "\n",
        "        if spacy_token:\n",
        "            spacy_lemma =spacy_token.lemma_\n",
        "            spacy_pos_upos = spacy_token.pos_\n",
        "            spacy_pos_short = pos_conversion_spacy_to_tb.get(spacy_pos_upos, 'UNKNOWN')\n",
        "\n",
        "            lemma_match = tb_lemma == spacy_lemma\n",
        "            pos_match = (tb_pos_short == spacy_pos_short) or (tb_pos_short == 'n' and spacy_pos_short in ['NOUN', 'PROPN'])\n",
        "\n",
        "            annotations.append({\n",
        "                'word': tb_text,\n",
        "                'tb_lemma': tb_lemma,\n",
        "                'spacy_lemma': spacy_lemma,\n",
        "                'lemma_match': lemma_match,\n",
        "                'tb_pos_short': tb_pos_short,\n",
        "                'spacy_pos_short': spacy_pos_short,\n",
        "                'pos_match': pos_match\n",
        "            })\n",
        "\n",
        "    return annotations"
      ],
      "metadata": {
        "id": "iTiJc2gMWI5v"
      },
      "execution_count": null,
      "outputs": []
    },
    {
      "cell_type": "code",
      "source": [
        "output_file_spacy = '/content/spacy_results.csv'\n",
        "\n",
        "with open(output_file_spacy, mode='w', newline='', encoding='utf-8') as file:\n",
        "    writer = csv.writer(file)\n",
        "    writer.writerow(['Word', 'TB Lemma', 'SpaCy Lemma', 'Lemma Match', 'TB POS', 'SpaCy POS', 'POS Match'])\n",
        "\n",
        "    for tb_sentence, spacy_tuple in zip(treebank_sentences, spacy_sentences):\n",
        "        file_id_spacy, index_spacy, spacy_doc = spacy_tuple\n",
        "        if file_id_spacy == tb_sentence[0] and index_spacy == tb_sentence[1]:\n",
        "            try:\n",
        "                annotations = compare_global_annotations(tb_sentence, spacy_doc)\n",
        "                for annotation in annotations:\n",
        "                    writer.writerow([annotation['word'], annotation['tb_lemma'], annotation['spacy_lemma'],\n",
        "                                     annotation['lemma_match'], annotation['tb_pos_short'], annotation['spacy_pos_short'],\n",
        "                                     annotation['pos_match']])\n",
        "            except ValueError as e:\n",
        "                print(f\"Erreur dans les données : {e}\")\n"
      ],
      "metadata": {
        "id": "kX_WKAFLGLwq"
      },
      "execution_count": null,
      "outputs": []
    },
    {
      "cell_type": "code",
      "source": [],
      "metadata": {
        "id": "hn7MeZNrWn8h"
      },
      "execution_count": null,
      "outputs": []
    }
  ]
}